{
  "nbformat": 4,
  "nbformat_minor": 0,
  "metadata": {
    "colab": {
      "name": "Copy of INF8245E - Machine Learning - Fall 2021 Tutorial-3.ipynb",
      "provenance": [],
      "collapsed_sections": [],
      "toc_visible": true
    },
    "kernelspec": {
      "name": "python3",
      "display_name": "Python 3"
    },
    "language_info": {
      "name": "python"
    }
  },
  "cells": [
    {
      "cell_type": "markdown",
      "metadata": {
        "id": "2QEWqnYwyomf"
      },
      "source": [
        "# Tutorial 3: Python ![alt text](data:image/png;base64,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 \"Logo Title Text 1\")\n",
        "## Outline:\n",
        "\n",
        "1.   **An Introduction to Python**\n",
        "\n",
        "    *   Basic data types\n",
        "    *   Containers\n",
        "        *   Lists\n",
        "        *   Dictionaries\n",
        "        *   Sets\n",
        "    *   Functions\n",
        "\n",
        "2.   **Numpy**\n",
        "\n",
        "    *   Arrays\n",
        "    *   Array indexing\n",
        "    *   Datat types\n",
        "    *   Array math\n",
        "    \n",
        "3.   **Matplotlib** \n",
        "\n",
        "    *   Plotting simple graphs\n",
        "    *   Plotting higher order graphs\n",
        "    *   Practice Problems\n",
        "\n",
        "\n",
        "\n"
      ]
    },
    {
      "cell_type": "markdown",
      "metadata": {
        "id": "HdMbzt1--hfu"
      },
      "source": [
        "## 1. An Introduction to Python\n",
        "\n",
        "*   Python is an object-oriented general-purpose programming language. It is high-level and presents a relatively simple syntax. As mentioned, one of Python's paradigm is object-oriented programming where objects are instances of classes that contain data (or attributes) and code (or functions or methods). It was designed to be highly extensible.\n",
        "\n",
        "*   One easy way to have start working with Python is to use [Google Colab](https://colab.research.google.com/notebooks/intro.ipynb), which is a free cloud service that offers a jupyter notebook environment (which is executed on Google's cloud servers) **AND** a GPU!  "
      ]
    },
    {
      "cell_type": "markdown",
      "metadata": {
        "id": "UrMTF2D0OHar"
      },
      "source": [
        "Now that we've explained briefly some of the tools we will use, let's dive into it! Some of the examples written below are inspired from the McGill COMP 551 class and from [Stanford course CS231n](https://cs231n.github.io/python-numpy-tutorial/#numpy-documentation). You can find in the last link further examples and a more extensive introduction to Python. "
      ]
    },
    {
      "cell_type": "markdown",
      "metadata": {
        "id": "TM9he8cRLW7J"
      },
      "source": [
        "### 1.1 Basic data types \n",
        "\n"
      ]
    },
    {
      "cell_type": "markdown",
      "metadata": {
        "id": "4shLMNtZbTGj"
      },
      "source": [
        "**Nmbers**"
      ]
    },
    {
      "cell_type": "code",
      "metadata": {
        "colab": {
          "base_uri": "https://localhost:8080/"
        },
        "id": "yXYTZV1C_NoT",
        "outputId": "b41b2c9f-3ca1-4ef6-a9ce-741d666592ad"
      },
      "source": [
        "x = 3\n",
        "print(type(x)) # Prints \"<class 'int'>\"\n",
        "y = 2.5\n",
        "print(type(y)) # Prints \"<class 'float'>\""
      ],
      "execution_count": null,
      "outputs": [
        {
          "output_type": "stream",
          "name": "stdout",
          "text": [
            "<class 'int'>\n",
            "<class 'float'>\n"
          ]
        }
      ]
    },
    {
      "cell_type": "markdown",
      "metadata": {
        "id": "XMzbQr9ZbAfY"
      },
      "source": [
        "**Booleans**"
      ]
    },
    {
      "cell_type": "code",
      "metadata": {
        "colab": {
          "base_uri": "https://localhost:8080/"
        },
        "id": "QvtcVmiW_ZGN",
        "outputId": "cc3fa806-fe3d-4521-e51c-5be7c576e7d0"
      },
      "source": [
        "t = True\n",
        "f = False\n",
        "print(type(t)) # Prints \"<class 'bool'>\"\n",
        "print(t and f) # Logical AND; prints \"False\"\n",
        "print(t or f)  # Logical OR; prints \"True\"\n",
        "print(not t)   # Logical NOT; prints \"False\"\n",
        "print(t != f)  # Logical XOR; prints \"True\""
      ],
      "execution_count": null,
      "outputs": [
        {
          "output_type": "stream",
          "name": "stdout",
          "text": [
            "<class 'bool'>\n",
            "False\n",
            "True\n",
            "False\n",
            "True\n"
          ]
        }
      ]
    },
    {
      "cell_type": "markdown",
      "metadata": {
        "id": "cYze6k4VbD25"
      },
      "source": [
        "**Strings**"
      ]
    },
    {
      "cell_type": "code",
      "metadata": {
        "colab": {
          "base_uri": "https://localhost:8080/"
        },
        "id": "g2ff_ZZG_cHC",
        "outputId": "a403c381-5052-486b-b3b5-ad3ca928d655"
      },
      "source": [
        "hello = 'hello'    # String literals can use single quotes\n",
        "world = \"world\"    # or double quotes; it does not matter.\n",
        "print(hello)       # Prints \"hello\"\n",
        "print(len(hello))  # String length; prints \"5\"\n",
        "hw = hello + ' ' + world  # String concatenation\n",
        "print(hw)  # prints \"hello world\""
      ],
      "execution_count": null,
      "outputs": [
        {
          "output_type": "stream",
          "name": "stdout",
          "text": [
            "hello\n",
            "5\n",
            "hello world\n"
          ]
        }
      ]
    },
    {
      "cell_type": "code",
      "metadata": {
        "colab": {
          "base_uri": "https://localhost:8080/"
        },
        "id": "f5SNwFuB_f6Z",
        "outputId": "24ec5419-fd4e-4ae3-9ed1-2c0aa1976bb1"
      },
      "source": [
        "s = \"hello\"\n",
        "print(s.capitalize())  # Capitalize a string; prints \"Hello\"\n",
        "print(s.upper())       # Convert a string to uppercase; prints \"HELLO\"\n",
        "print(s.replace('l', '(ell)'))  # Replace all instances of one substring with another;                             "
      ],
      "execution_count": null,
      "outputs": [
        {
          "output_type": "stream",
          "name": "stdout",
          "text": [
            "Hello\n",
            "HELLO\n",
            "he(ell)(ell)o\n"
          ]
        }
      ]
    },
    {
      "cell_type": "markdown",
      "metadata": {
        "id": "l0yOjAsWLixz"
      },
      "source": [
        "### 1.2 Conainers\n",
        "\n",
        "Python includes several built-in container types: lists, dictionaries and sets."
      ]
    },
    {
      "cell_type": "markdown",
      "metadata": {
        "id": "Fsjc3Cy5L86p"
      },
      "source": [
        "#### 1.2.1 Lists\n",
        "\n",
        "A list is the Python equivalent of an array, but is resizeable and can contain elements of different types:"
      ]
    },
    {
      "cell_type": "code",
      "metadata": {
        "colab": {
          "base_uri": "https://localhost:8080/"
        },
        "id": "YiKMdQ1z_jZq",
        "outputId": "fee50f1b-cde5-4134-b763-3208b8c527e0"
      },
      "source": [
        "xs = [3, 1, 2]    # Create a list\n",
        "print(xs, xs[2])  # Prints \"[3, 1, 2] 2\"\n",
        "print(xs[-1])     # Negative indices count from the end of the list; prints \"2\"\n",
        "xs[2] = 'foo'     # Lists can contain elements of different types\n",
        "print(xs)         # Prints \"[3, 1, 'foo']\"\n",
        "xs.append('bar')  # Add a new element to the end of the list\n",
        "print(xs)         # Prints \"[3, 1, 'foo', 'bar']\"\n",
        "x = xs.pop()      # Remove and return the last element of the list\n",
        "print(x, xs)      # Prints \"bar [3, 1, 'foo']\""
      ],
      "execution_count": null,
      "outputs": [
        {
          "output_type": "stream",
          "name": "stdout",
          "text": [
            "[3, 1, 2] 2\n",
            "2\n",
            "[3, 1, 'foo']\n",
            "[3, 1, 'foo', 'bar']\n",
            "bar [3, 1, 'foo']\n"
          ]
        }
      ]
    },
    {
      "cell_type": "markdown",
      "metadata": {
        "id": "KTzFzowXbiah"
      },
      "source": [
        "**Slicing**"
      ]
    },
    {
      "cell_type": "code",
      "metadata": {
        "colab": {
          "base_uri": "https://localhost:8080/"
        },
        "id": "8GaMRm9N_mXN",
        "outputId": "b340b853-b707-4339-cc9a-718e57ceb864"
      },
      "source": [
        "nums = list(range(5))     # range is a built-in function that creates a list of integers\n",
        "print(nums)               # Prints \"[0, 1, 2, 3, 4]\"\n",
        "print(nums[2:4])          # Get a slice from index 2 to 4 (exclusive); prints \"[2, 3]\"\n",
        "print(nums[2:])           # Get a slice from index 2 to the end; prints \"[2, 3, 4]\"\n",
        "print(nums[:])            # Get a slice of the whole list; prints \"[0, 1, 2, 3, 4]\"\n",
        "print(nums[:-1])          # Slice indices can be negative; prints \"[0, 1, 2, 3]\"\n",
        "nums[2:4] = [8, 9]        # Assign a new sublist to a slice\n",
        "print(nums)               # Prints \"[0, 1, 8, 9, 4]\""
      ],
      "execution_count": null,
      "outputs": [
        {
          "output_type": "stream",
          "name": "stdout",
          "text": [
            "[0, 1, 2, 3, 4]\n",
            "[2, 3]\n",
            "[2, 3, 4]\n",
            "[0, 1, 2, 3, 4]\n",
            "[0, 1, 2, 3]\n",
            "[0, 1, 8, 9, 4]\n"
          ]
        }
      ]
    },
    {
      "cell_type": "markdown",
      "metadata": {
        "id": "v3uC1pqYbmED"
      },
      "source": [
        "**Loops**"
      ]
    },
    {
      "cell_type": "code",
      "metadata": {
        "colab": {
          "base_uri": "https://localhost:8080/"
        },
        "id": "nDS_qlJY_olW",
        "outputId": "1c8e333a-17cc-4579-9d5f-9a481834f378"
      },
      "source": [
        "animals = ['cat', 'dog', 'monkey']\n",
        "for animal in animals:\n",
        "    print(animal)\n",
        "# Prints \"cat\", \"dog\", \"monkey\", each on its own line."
      ],
      "execution_count": null,
      "outputs": [
        {
          "output_type": "stream",
          "name": "stdout",
          "text": [
            "cat\n",
            "dog\n",
            "monkey\n"
          ]
        }
      ]
    },
    {
      "cell_type": "markdown",
      "metadata": {
        "id": "VRo-LrhsMGlk"
      },
      "source": [
        "#### 1.2.2 Dictionaries"
      ]
    },
    {
      "cell_type": "markdown",
      "metadata": {
        "id": "FOGFsVyXb0n_"
      },
      "source": [
        "A dictionary stores (key, value) pairs"
      ]
    },
    {
      "cell_type": "code",
      "metadata": {
        "colab": {
          "base_uri": "https://localhost:8080/"
        },
        "id": "HLgTTrc0_rmf",
        "outputId": "d57a77ec-aa87-4af6-ea3e-334fc809d9ec"
      },
      "source": [
        "d = {'cat': 'cute', 'dog': 'furry'}  # Create a new dictionary with some data\n",
        "print(d['cat'])       # Get an entry from a dictionary; prints \"cute\"\n",
        "d['fish'] = 'wet'     # Set an entry in a dictionary\n",
        "print(d['fish'])      # Prints \"wet\"\n",
        "# print(d['monkey'])  # KeyError: 'monkey' not a key of d\n",
        "print(d.get('fish'))    # Get an element with a default; prints \"wet\"\n",
        "del d['fish']         # Remove an element from a dictionary"
      ],
      "execution_count": null,
      "outputs": [
        {
          "output_type": "stream",
          "name": "stdout",
          "text": [
            "cute\n",
            "wet\n",
            "wet\n"
          ]
        }
      ]
    },
    {
      "cell_type": "markdown",
      "metadata": {
        "id": "4RiMdSnJMYVl"
      },
      "source": [
        "#### 1.2.3 Sets"
      ]
    },
    {
      "cell_type": "markdown",
      "metadata": {
        "id": "xd4IcZSfcK6b"
      },
      "source": [
        "A set is an unordered collection of distinct elements"
      ]
    },
    {
      "cell_type": "code",
      "metadata": {
        "colab": {
          "base_uri": "https://localhost:8080/"
        },
        "id": "DLOWnzhHcGTy",
        "outputId": "61b978be-fbee-4006-da18-debdc1a31cd8"
      },
      "source": [
        "animals = {'cat', 'dog'}\n",
        "print('cat' in animals)   # Check if an element is in a set; prints \"True\"\n",
        "print('fish' in animals)  # prints \"False\"\n",
        "animals.add('fish')       # Add an element to a set\n",
        "print('fish' in animals)  # Prints \"True\"\n",
        "print(len(animals))       # Number of elements in a set; prints \"3\"\n",
        "animals.add('cat')        # Adding an element that is already in the set does nothing\n",
        "print(len(animals))       # Prints \"3\"\n",
        "animals.remove('cat')     # Remove an element from a set\n",
        "print(len(animals))       # Prints \"2\""
      ],
      "execution_count": null,
      "outputs": [
        {
          "output_type": "stream",
          "name": "stdout",
          "text": [
            "True\n",
            "False\n",
            "True\n",
            "3\n",
            "3\n",
            "2\n"
          ]
        }
      ]
    },
    {
      "cell_type": "markdown",
      "metadata": {
        "id": "-cbqA3RwMhgL"
      },
      "source": [
        "### 1.3 Functions"
      ]
    },
    {
      "cell_type": "code",
      "metadata": {
        "colab": {
          "base_uri": "https://localhost:8080/"
        },
        "id": "djgotAdWAE9h",
        "outputId": "bde55f40-c1bf-435e-9194-5c23e3b12736"
      },
      "source": [
        "def sign(x):\n",
        "    if x > 0:\n",
        "        return 'positive'\n",
        "    elif x < 0:\n",
        "        return 'negative'\n",
        "    else:\n",
        "        return 'zero'\n",
        "\n",
        "for x in [-1, 0, 1]:\n",
        "    print(sign(x))\n",
        "# Prints \"negative\", \"zero\", \"positive\""
      ],
      "execution_count": null,
      "outputs": [
        {
          "output_type": "stream",
          "name": "stdout",
          "text": [
            "negative\n",
            "zero\n",
            "positive\n"
          ]
        }
      ]
    },
    {
      "cell_type": "markdown",
      "metadata": {
        "id": "BpTqjNAlMj_3"
      },
      "source": [
        "## 2. Numpy\n",
        "Numpy is the core library for scientific computing in Python."
      ]
    },
    {
      "cell_type": "markdown",
      "metadata": {
        "id": "q72065dPXIgy"
      },
      "source": [
        "### 2.1 Arrays\n"
      ]
    },
    {
      "cell_type": "markdown",
      "metadata": {
        "id": "YZvmCddVeWBE"
      },
      "source": [
        "Using numpy, we can create arrays and access their elements"
      ]
    },
    {
      "cell_type": "code",
      "metadata": {
        "colab": {
          "base_uri": "https://localhost:8080/"
        },
        "id": "IKo8APPdANRn",
        "outputId": "1c5d3167-fe3c-43ed-ae5e-c18ec158514f"
      },
      "source": [
        "import numpy as np\n",
        "\n",
        "a = np.array([1, 2, 3])   # Create a rank 1 array\n",
        "print(type(a))            # Prints \"<class 'numpy.ndarray'>\"\n",
        "print(a.shape)            # Prints \"(3,)\"\n",
        "print(a[0], a[1], a[2])   # Prints \"1 2 3\"\n",
        "a[0] = 5                  # Change an element of the array\n",
        "print(a)                  # Prints \"[5, 2, 3]\"\n",
        "\n",
        "b = np.array([[1,2,3],[4,5,6]])    # Create a rank 2 array\n",
        "print(b.shape)                     # Prints \"(2, 3)\"\n",
        "print(b[0, 0], b[0, 1], b[1, 0])   # Prints \"1 2 4\""
      ],
      "execution_count": null,
      "outputs": [
        {
          "output_type": "stream",
          "name": "stdout",
          "text": [
            "<class 'numpy.ndarray'>\n",
            "(3,)\n",
            "1 2 3\n",
            "[5 2 3]\n",
            "(2, 3)\n",
            "1 2 4\n"
          ]
        }
      ]
    },
    {
      "cell_type": "markdown",
      "metadata": {
        "id": "33p6Ub8keFQq"
      },
      "source": [
        "There are also functions for creating the arrays"
      ]
    },
    {
      "cell_type": "code",
      "metadata": {
        "colab": {
          "base_uri": "https://localhost:8080/"
        },
        "id": "vyWJHfwFASx7",
        "outputId": "c81c2999-4c8a-469d-9470-bf8f8ff0ea6f"
      },
      "source": [
        "import numpy as np\n",
        "\n",
        "a = np.zeros((2,2))   # Create an array of all zeros\n",
        "print(a)              # Prints \"[[ 0.  0.]\n",
        "                      #          [ 0.  0.]]\"\n",
        "\n",
        "b = np.ones((1,2))    # Create an array of all ones\n",
        "print(b)              # Prints \"[[ 1.  1.]]\"\n",
        "\n",
        "c = np.full((2,2), 7)  # Create a constant array\n",
        "print(c)               # Prints \"[[ 7.  7.]\n",
        "                       #          [ 7.  7.]]\"\n",
        "\n",
        "d = np.eye(2)         # Create a 2x2 identity matrix\n",
        "print(d)              # Prints \"[[ 1.  0.]\n",
        "                      #          [ 0.  1.]]\"\n",
        "\n",
        "e = np.random.random((2,2))  # Create an array filled with random values\n",
        "print(e)                     # Might print \"[[ 0.91940167  0.08143941]\n",
        "                             #               [ 0.68744134  0.87236687]]\""
      ],
      "execution_count": null,
      "outputs": [
        {
          "output_type": "stream",
          "name": "stdout",
          "text": [
            "[[0. 0.]\n",
            " [0. 0.]]\n",
            "[[1. 1.]]\n",
            "[[7 7]\n",
            " [7 7]]\n",
            "[[1. 0.]\n",
            " [0. 1.]]\n",
            "[[0.84986696 0.17007103]\n",
            " [0.09559214 0.05620574]]\n"
          ]
        }
      ]
    },
    {
      "cell_type": "markdown",
      "metadata": {
        "id": "c_warif3935M"
      },
      "source": [
        "### 2.1 Array indexing\n"
      ]
    },
    {
      "cell_type": "markdown",
      "metadata": {
        "id": "oGr50yxoe3yE"
      },
      "source": [
        "Slicing is similar to python lists"
      ]
    },
    {
      "cell_type": "code",
      "metadata": {
        "colab": {
          "base_uri": "https://localhost:8080/"
        },
        "id": "XNgxDQtzAV1u",
        "outputId": "18d5e9ce-eb21-48fd-8cb9-165b89ffae33"
      },
      "source": [
        "import numpy as np\n",
        "\n",
        "# Create the following rank 2 array with shape (3, 4)\n",
        "# [[ 1  2  3  4]\n",
        "#  [ 5  6  7  8]\n",
        "#  [ 9 10 11 12]]\n",
        "a = np.array([[1,2,3,4], [5,6,7,8], [9,10,11,12]])\n",
        "\n",
        "# Use slicing to pull out the subarray consisting of the first 2 rows\n",
        "# and columns 1 and 2; b is the following array of shape (2, 2):\n",
        "# [[2 3]\n",
        "#  [6 7]]\n",
        "b = a[:2, 1:3]\n",
        "\n",
        "# A slice of an array is a view into the same data, so modifying it\n",
        "# will modify the original array.\n",
        "print(a[0, 1])   # Prints \"2\"\n",
        "b[0, 0] = 77     # b[0, 0] is the same piece of data as a[0, 1]\n",
        "print(a[0, 1])   # Prints \"77\""
      ],
      "execution_count": null,
      "outputs": [
        {
          "output_type": "stream",
          "name": "stdout",
          "text": [
            "2\n",
            "77\n"
          ]
        }
      ]
    },
    {
      "cell_type": "markdown",
      "metadata": {
        "id": "esijex5HfUGR"
      },
      "source": [
        "Boolean array indexing"
      ]
    },
    {
      "cell_type": "code",
      "metadata": {
        "colab": {
          "base_uri": "https://localhost:8080/"
        },
        "id": "tQRAzuAOfRvw",
        "outputId": "5145ace2-03c3-426a-bf67-dbf97680c3b1"
      },
      "source": [
        "import numpy as np\n",
        "\n",
        "a = np.array([[1,2], [3, 4], [5, 6]])\n",
        "\n",
        "bool_idx = (a > 2)   # Find the elements of a that are bigger than 2;\n",
        "                     # this returns a numpy array of Booleans of the same\n",
        "                     # shape as a, where each slot of bool_idx tells\n",
        "                     # whether that element of a is > 2.\n",
        "\n",
        "print(bool_idx)      # Prints \"[[False False]\n",
        "                     #          [ True  True]\n",
        "                     #          [ True  True]]\"\n",
        "\n",
        "# We use boolean array indexing to construct a rank 1 array\n",
        "# consisting of the elements of a corresponding to the True values\n",
        "# of bool_idx\n",
        "print(a[bool_idx])  # Prints \"[3 4 5 6]\"\n",
        "\n",
        "# We can do all of the above in a single concise statement:\n",
        "print(a[a > 2])     # Prints \"[3 4 5 6]\""
      ],
      "execution_count": null,
      "outputs": [
        {
          "output_type": "stream",
          "name": "stdout",
          "text": [
            "[[False False]\n",
            " [ True  True]\n",
            " [ True  True]]\n",
            "[3 4 5 6]\n",
            "[3 4 5 6]\n"
          ]
        }
      ]
    },
    {
      "cell_type": "markdown",
      "metadata": {
        "id": "bzIBRiDA94C3"
      },
      "source": [
        "### 2.1 Datatypes\n"
      ]
    },
    {
      "cell_type": "code",
      "metadata": {
        "colab": {
          "base_uri": "https://localhost:8080/"
        },
        "id": "qCaXFJrlAhr6",
        "outputId": "c3463bcf-29e4-4dbc-b22d-b9a79afcb939"
      },
      "source": [
        "import numpy as np\n",
        "\n",
        "x = np.array([1, 2])   # Let numpy choose the datatype\n",
        "print(x.dtype)         # Prints \"int64\"\n",
        "\n",
        "x = np.array([1.0, 2.0])   # Let numpy choose the datatype\n",
        "print(x.dtype)             # Prints \"float64\"\n",
        "\n",
        "x = np.array([1, 2], dtype=np.int64)   # Force a particular datatype\n",
        "print(x.dtype)                         # Prints \"int64\""
      ],
      "execution_count": null,
      "outputs": [
        {
          "output_type": "stream",
          "name": "stdout",
          "text": [
            "int64\n",
            "float64\n",
            "int64\n"
          ]
        }
      ]
    },
    {
      "cell_type": "markdown",
      "metadata": {
        "id": "V6n3XsEN94JT"
      },
      "source": [
        "### 2.1 Array math\n"
      ]
    },
    {
      "cell_type": "markdown",
      "metadata": {
        "id": "DZNLT4rvgsek"
      },
      "source": [
        "Basic mathematical functions operate elementwise on arrays"
      ]
    },
    {
      "cell_type": "code",
      "metadata": {
        "colab": {
          "base_uri": "https://localhost:8080/"
        },
        "id": "Gr-6HsXVAlbL",
        "outputId": "904ebf5d-0378-4755-b5ef-bcabda2bbd65"
      },
      "source": [
        "import numpy as np\n",
        "\n",
        "x = np.array([[1,2],[3,4]], dtype=np.float64)\n",
        "y = np.array([[5,6],[7,8]], dtype=np.float64)\n",
        "\n",
        "# Elementwise sum; both produce the array\n",
        "# [[ 6.0  8.0]\n",
        "#  [10.0 12.0]]\n",
        "print(x + y)\n",
        "print(np.add(x, y))\n",
        "\n",
        "# Elementwise difference; both produce the array\n",
        "# [[-4.0 -4.0]\n",
        "#  [-4.0 -4.0]]\n",
        "print(x - y)\n",
        "print(np.subtract(x, y))\n",
        "\n",
        "# Elementwise product; both produce the array\n",
        "# [[ 5.0 12.0]\n",
        "#  [21.0 32.0]]\n",
        "print(x * y)\n",
        "print(np.multiply(x, y))\n",
        "\n",
        "# Elementwise division; both produce the array\n",
        "# [[ 0.2         0.33333333]\n",
        "#  [ 0.42857143  0.5       ]]\n",
        "print(x / y)\n",
        "print(np.divide(x, y))\n",
        "\n",
        "# Elementwise square root; produces the array\n",
        "# [[ 1.          1.41421356]\n",
        "#  [ 1.73205081  2.        ]]\n",
        "print(np.sqrt(x))"
      ],
      "execution_count": null,
      "outputs": [
        {
          "output_type": "stream",
          "name": "stdout",
          "text": [
            "[[ 6.  8.]\n",
            " [10. 12.]]\n",
            "[[ 6.  8.]\n",
            " [10. 12.]]\n",
            "[[-4. -4.]\n",
            " [-4. -4.]]\n",
            "[[-4. -4.]\n",
            " [-4. -4.]]\n",
            "[[ 5. 12.]\n",
            " [21. 32.]]\n",
            "[[ 5. 12.]\n",
            " [21. 32.]]\n",
            "[[0.2        0.33333333]\n",
            " [0.42857143 0.5       ]]\n",
            "[[0.2        0.33333333]\n",
            " [0.42857143 0.5       ]]\n",
            "[[1.         1.41421356]\n",
            " [1.73205081 2.        ]]\n"
          ]
        }
      ]
    },
    {
      "cell_type": "markdown",
      "metadata": {
        "id": "OL1m01uagfGW"
      },
      "source": [
        "Note that unlike MATLAB, * is elementwise multiplication, not matrix multiplication. We instead use the dot function to compute inner products of vectors, to multiply a vector by a matrix, and to multiply matrices. dot is available both as a function in the numpy module and as an instance method of array objects:"
      ]
    },
    {
      "cell_type": "code",
      "metadata": {
        "colab": {
          "base_uri": "https://localhost:8080/"
        },
        "id": "X4zrlqjGAoF5",
        "outputId": "017e6eb2-4c34-458f-d6e9-80556e27adfd"
      },
      "source": [
        "import numpy as np\n",
        "\n",
        "x = np.array([[1,2],[3,4]])\n",
        "y = np.array([[5,6],[7,8]])\n",
        "\n",
        "v = np.array([9,10])\n",
        "w = np.array([11, 12])\n",
        "\n",
        "# Inner product of vectors; both produce 219\n",
        "print(v.dot(w))\n",
        "print(np.dot(v, w))\n",
        "\n",
        "# Matrix / vector product; both produce the rank 1 array [29 67]\n",
        "print(x.dot(v))\n",
        "print(np.dot(x, v))\n",
        "\n",
        "# Matrix / matrix product; both produce the rank 2 array\n",
        "# [[19 22]\n",
        "#  [43 50]]\n",
        "print(x.dot(y))\n",
        "print(np.dot(x, y))"
      ],
      "execution_count": null,
      "outputs": [
        {
          "output_type": "stream",
          "name": "stdout",
          "text": [
            "219\n",
            "219\n",
            "[29 67]\n",
            "[29 67]\n",
            "[[19 22]\n",
            " [43 50]]\n",
            "[[19 22]\n",
            " [43 50]]\n"
          ]
        }
      ]
    },
    {
      "cell_type": "markdown",
      "metadata": {
        "id": "VLmm8Xsjg1gi"
      },
      "source": [
        "Numpy provides many useful functions for performing computations on arrays; one of the most useful is sum:"
      ]
    },
    {
      "cell_type": "code",
      "metadata": {
        "colab": {
          "base_uri": "https://localhost:8080/"
        },
        "id": "AztA__ICAqHb",
        "outputId": "f6cb1262-e61f-4573-9b42-f3974227ccd6"
      },
      "source": [
        "import numpy as np\n",
        "\n",
        "x = np.array([[1,2],[3,4]])\n",
        "\n",
        "print(np.sum(x))  # Compute sum of all elements; prints \"10\"\n",
        "print(np.sum(x, axis=0))  # Compute sum of each column; prints \"[4 6]\"\n",
        "print(np.sum(x, axis=1))  # Compute sum of each row; prints \"[3 7]\""
      ],
      "execution_count": null,
      "outputs": [
        {
          "output_type": "stream",
          "name": "stdout",
          "text": [
            "10\n",
            "[4 6]\n",
            "[3 7]\n"
          ]
        }
      ]
    },
    {
      "cell_type": "markdown",
      "metadata": {
        "id": "HxyKjP2Cg73f"
      },
      "source": [
        "Apart from computing mathematical functions using arrays, we frequently need to reshape or otherwise manipulate data in arrays. The simplest example of this type of operation is transposing a matrix; to transpose a matrix, simply use the T attribute of an array object:"
      ]
    },
    {
      "cell_type": "code",
      "metadata": {
        "colab": {
          "base_uri": "https://localhost:8080/"
        },
        "id": "XT_43k9WAtNi",
        "outputId": "27973701-ab70-421b-90e5-cd43b0f17e17"
      },
      "source": [
        "import numpy as np\n",
        "\n",
        "x = np.array([[1,2], [3,4]])\n",
        "print(x)    # Prints \"[[1 2]\n",
        "            #          [3 4]]\"\n",
        "print(x.T)  # Prints \"[[1 3]\n",
        "            #          [2 4]]\"\n",
        "\n",
        "# Note that taking the transpose of a rank 1 array does nothing:\n",
        "v = np.array([1,2,3])\n",
        "print(v)    # Prints \"[1 2 3]\"\n",
        "print(v.T)  # Prints \"[1 2 3]\""
      ],
      "execution_count": null,
      "outputs": [
        {
          "output_type": "stream",
          "name": "stdout",
          "text": [
            "[[1 2]\n",
            " [3 4]]\n",
            "[[1 3]\n",
            " [2 4]]\n",
            "[1 2 3]\n",
            "[1 2 3]\n"
          ]
        }
      ]
    },
    {
      "cell_type": "markdown",
      "metadata": {
        "id": "FV23NeqsZ76I"
      },
      "source": [
        "## 3. Matplotlib"
      ]
    },
    {
      "cell_type": "markdown",
      "metadata": {
        "id": "SJsoTEf_DpCY"
      },
      "source": [
        "### 3.1 Plotting simple graphs\n"
      ]
    },
    {
      "cell_type": "code",
      "metadata": {
        "id": "RhLHKmAIZxVZ"
      },
      "source": [
        "import matplotlib.pyplot as plt\n",
        "import numpy as np"
      ],
      "execution_count": null,
      "outputs": []
    },
    {
      "cell_type": "code",
      "metadata": {
        "id": "1pBjVmSiC4xS",
        "colab": {
          "base_uri": "https://localhost:8080/",
          "height": 281
        },
        "outputId": "fe4be694-6594-40d7-99c9-0bffb6fa62d8"
      },
      "source": [
        "plt.title(\"My Plot\")\n",
        "plt.plot([1,2,3,4],[1,2,3,4])\n",
        "plt.ylabel('y axis')\n",
        "plt.show()"
      ],
      "execution_count": null,
      "outputs": [
        {
          "output_type": "display_data",
          "data": {
            "image/png": "[encoded data removed]",
            "text/plain": [
              "<Figure size 432x288 with 1 Axes>"
            ]
          },
          "metadata": {
            "needs_background": "light"
          }
        }
      ]
    },
    {
      "cell_type": "code",
      "metadata": {
        "id": "1xkfb1fBC6vo",
        "colab": {
          "base_uri": "https://localhost:8080/",
          "height": 269
        },
        "outputId": "c6d3cbd9-2eb2-4619-f991-d39a98f1dacf"
      },
      "source": [
        "plt.plot([1,2,3,4], [1,4,9,16], 'r^') # Here r means red, o means circle\n",
        "plt.axis([0, 6, 0, 20]) # changes the default axis length\n",
        "plt.show()"
      ],
      "execution_count": null,
      "outputs": [
        {
          "output_type": "display_data",
          "data": {
            "image/png": "[encoded data removed]",
            "text/plain": [
              "<Figure size 432x288 with 1 Axes>"
            ]
          },
          "metadata": {
            "needs_background": "light"
          }
        }
      ]
    },
    {
      "cell_type": "markdown",
      "metadata": {
        "id": "KfEUw8gOE5C7"
      },
      "source": [
        "### 3.2 Plotting higher order graphs\n"
      ]
    },
    {
      "cell_type": "code",
      "metadata": {
        "id": "IK81UdTALbpM",
        "colab": {
          "base_uri": "https://localhost:8080/",
          "height": 295
        },
        "outputId": "90057d77-cb4c-4d11-cce7-cd5de0f260b6"
      },
      "source": [
        "x = np.arange(0., 5., 0.2)\n",
        "\n",
        "plt.plot(x, x, 'r')\n",
        "plt.plot(x, x**2, 'bs')\n",
        "plt.plot(x, x**3, 'g^')\n",
        "plt.xlabel('x axis label')\n",
        "plt.ylabel('y axis label')\n",
        "plt.title('Curves')\n",
        "plt.legend(['y=x', 'y=x**2', 'y=x**3'])\n",
        "plt.show()"
      ],
      "execution_count": null,
      "outputs": [
        {
          "output_type": "display_data",
          "data": {
            "image/png": "[encoded data removed]",
            "text/plain": [
              "<Figure size 432x288 with 1 Axes>"
            ]
          },
          "metadata": {
            "needs_background": "light"
          }
        }
      ]
    },
    {
      "cell_type": "code",
      "metadata": {
        "id": "Ff2BIuOmSmJR",
        "colab": {
          "base_uri": "https://localhost:8080/",
          "height": 282
        },
        "outputId": "de183624-5854-4cda-f192-16c16909a7dc"
      },
      "source": [
        "x=np.arange(0.0,5,0.1)\n",
        "plt.figure(1)\n",
        "plt.subplot(2,1,1)\n",
        "plt.plot(x,np.exp(-x)*np.cos(2*np.pi*x),'bo')\n",
        "plt.subplot(2,1,2)\n",
        "plt.plot(x,np.cos(2*np.pi*x),'r--')"
      ],
      "execution_count": null,
      "outputs": [
        {
          "output_type": "execute_result",
          "data": {
            "text/plain": [
              "[<matplotlib.lines.Line2D at 0x7fb0d1e90d90>]"
            ]
          },
          "metadata": {},
          "execution_count": 24
        },
        {
          "output_type": "display_data",
          "data": {
            "image/png": "[encoded data removed]",
            "text/plain": [
              "<Figure size 432x288 with 2 Axes>"
            ]
          },
          "metadata": {
            "needs_background": "light"
          }
        }
      ]
    },
    {
      "cell_type": "code",
      "metadata": {
        "colab": {
          "base_uri": "https://localhost:8080/",
          "height": 312
        },
        "id": "wdecAVigb5EB",
        "outputId": "d389e265-5ed2-403f-9e93-cf0a628e4e38"
      },
      "source": [
        "x = np.arange(0,10,0.01)\n",
        "y = (x-5)**2\n",
        "plt.plot(x,y,\"b\")\n",
        "plt.xlabel(\"predicted value\")\n",
        "plt.ylabel(\"loss\")\n",
        "plt.title(\"Loss function\")"
      ],
      "execution_count": null,
      "outputs": [
        {
          "output_type": "execute_result",
          "data": {
            "text/plain": [
              "Text(0.5, 1.0, 'Loss function')"
            ]
          },
          "metadata": {},
          "execution_count": 26
        },
        {
          "output_type": "display_data",
          "data": {
            "image/png": "[encoded data removed]",
            "text/plain": [
              "<Figure size 432x288 with 1 Axes>"
            ]
          },
          "metadata": {
            "needs_background": "light"
          }
        }
      ]
    },
    {
      "cell_type": "markdown",
      "metadata": {
        "id": "XWAj9tNNEfH2"
      },
      "source": [
        "## 4. Practice Problems\n"
      ]
    },
    {
      "cell_type": "markdown",
      "metadata": {
        "id": "kkCKINpKZwi0"
      },
      "source": [
        "### 4.1 Problem 1"
      ]
    },
    {
      "cell_type": "markdown",
      "metadata": {
        "id": "-qjDaOnyZjXc"
      },
      "source": [
        "Return the maximum number and the index of that number from an array of numbers"
      ]
    },
    {
      "cell_type": "code",
      "metadata": {
        "id": "uh8F9agEa8cY",
        "colab": {
          "base_uri": "https://localhost:8080/"
        },
        "outputId": "146c4bf8-3e55-43bb-e1a6-d06acf0854c6"
      },
      "source": [
        "data = [123,-23,454,34,766,-2,0,25,-43,65]\n",
        "\n",
        "max_value = max(data)\n",
        "max_index = data.index(max_value)\n",
        "\n",
        "print(\"the max value is {0} which is found at index {1}\".format(max_value,max_index))\n"
      ],
      "execution_count": null,
      "outputs": [
        {
          "output_type": "stream",
          "name": "stdout",
          "text": [
            "the max value is 766 which is found at index 4\n"
          ]
        }
      ]
    },
    {
      "cell_type": "markdown",
      "metadata": {
        "id": "bvzJHdSyc2nF"
      },
      "source": [
        "### 4.2 Problem 2"
      ]
    },
    {
      "cell_type": "markdown",
      "metadata": {
        "id": "H93Y94RegNro"
      },
      "source": [
        "Plot a sin function as well as noise corrupted data from this sin function (as seen in class)"
      ]
    },
    {
      "cell_type": "code",
      "metadata": {
        "id": "PldtdbE7gU_p",
        "colab": {
          "base_uri": "https://localhost:8080/",
          "height": 281
        },
        "outputId": "738d36a8-3119-4c6d-9d83-1e39ff7e5688"
      },
      "source": [
        "def sin_function(t):\n",
        "  \n",
        "  return np.sin(2*np.pi*t)\n",
        "\n",
        "t1 = np.arange(0,1,0.1)\n",
        "\n",
        "y = sin_function(t1)\n",
        "noise = np.random.normal(0,0.1,10)\n",
        "\n",
        "data = y + noise # data observed\n",
        "\n",
        "# origional data\n",
        "x_coords = np.arange(0,1,0.01)\n",
        "origional_data = sin_function(x_coords)\n",
        "\n",
        "plt.plot(t1,data,\"bo\") # plot observed data\n",
        "plt.plot(x_coords,origional_data) #plot origional data\n",
        "plt.title(\"Plot of noise corrupted data\") #give title\n",
        "plt.legend([\"obeserved data\",'true underlying function'])\n",
        "plt.show()"
      ],
      "execution_count": null,
      "outputs": [
        {
          "output_type": "display_data",
          "data": {
            "image/png": "[encoded data removed]",
            "text/plain": [
              "<Figure size 432x288 with 1 Axes>"
            ]
          },
          "metadata": {
            "needs_background": "light"
          }
        }
      ]
    },
    {
      "cell_type": "markdown",
      "metadata": {
        "id": "4p2q0jsFl7tE"
      },
      "source": [
        "### 4.3 Problem 3\n",
        "\n"
      ]
    },
    {
      "cell_type": "markdown",
      "metadata": {
        "id": "cGdYetHrmN5G"
      },
      "source": [
        "Determine if an array is monotonic.\n",
        "<br>Example:<br>\n",
        "- [1,2,3,3,3,3,3,4,5,6,7] is monotonic (increasing)\n",
        "- [7,6,5,4,3,3,3,3,3,2,1] is monotonic (decreasing)\n",
        "- [1,5,4,3,3,3,3,3,2,6,7] is not monotonic"
      ]
    },
    {
      "cell_type": "code",
      "metadata": {
        "id": "mM-1hRewnFEF",
        "cellView": "code"
      },
      "source": [
        "def isMonotonic(arr):\n",
        "    behaviour = None\n",
        "    for i in range(len(arr)-1):\n",
        "        b = arr[i] - arr[i+1]\n",
        "        if b > 0:\n",
        "            b = 1\n",
        "        if b < 0:\n",
        "            b = -1\n",
        "\n",
        "#         b = cmp(arr[i], arr[i+1])   cmp cannot be used in python 3 anymore \n",
        "        \n",
        "        \n",
        "        if b != 0:\n",
        "            if behaviour == None:\n",
        "                behaviour = b\n",
        "            else:\n",
        "                if behaviour != b:\n",
        "                    return False\n",
        "    return True"
      ],
      "execution_count": null,
      "outputs": []
    },
    {
      "cell_type": "code",
      "metadata": {
        "id": "Gpm2Lw5Jo5Jf",
        "colab": {
          "base_uri": "https://localhost:8080/"
        },
        "outputId": "9484a3e2-e6da-4092-d67a-003a33157e59"
      },
      "source": [
        "print (isMonotonic([1,5,4,3,3,3,3,3,2,6,7]))\n",
        "print (isMonotonic([7,6,5,4,3,3,3,3,3,2,1]))\n",
        "print (isMonotonic([1,1,1,1,1,1,1]))"
      ],
      "execution_count": null,
      "outputs": [
        {
          "output_type": "stream",
          "name": "stdout",
          "text": [
            "False\n",
            "True\n",
            "True\n"
          ]
        }
      ]
    },
    {
      "cell_type": "markdown",
      "metadata": {
        "id": "Qf6KUtPWpoOR"
      },
      "source": [
        "### 4.4 Problem 4"
      ]
    },
    {
      "cell_type": "markdown",
      "metadata": {
        "id": "vYeCgjhLpqWy"
      },
      "source": [
        "Hard(er) problem for plotting using matplotlib"
      ]
    },
    {
      "cell_type": "markdown",
      "metadata": {
        "id": "ahLe-TqQpwJ4"
      },
      "source": [
        "Plot the decision boundary for a circle of radius 2"
      ]
    },
    {
      "cell_type": "code",
      "metadata": {
        "id": "9XD8ZeYkppmR",
        "colab": {
          "base_uri": "https://localhost:8080/",
          "height": 295
        },
        "outputId": "df49d0ff-57c7-44ce-8c62-1a20bd61c3d6"
      },
      "source": [
        "import matplotlib.colors as colors\n",
        "\n",
        "size_of_map = np.arange(-3,3,0.01)\n",
        "xx, yy = np.meshgrid(size_of_map,size_of_map) # gives a rectangular grid out of \n",
        "                                              # input values\n",
        "\n",
        "# our data is generated randomly from the uniform random distribution\n",
        "x0 = np.random.uniform(-3,3,100)\n",
        "x1 = np.random.uniform(-3,3,100)\n",
        "\n",
        "# the underlying classification function, note that it has small gaussian noise\n",
        "def true_function(x0,x1):\n",
        "  \n",
        "  return x0**2 + x1**2 + np.random.normal(0,1) <= 4 \n",
        "\n",
        "y = true_function(x0,x1) #the true predictions for our data\n",
        "\n",
        "\n",
        "# our classifier, just the circle without the gaussian noise\n",
        "def classifier(x0,x1):\n",
        "  \n",
        "  return x0**2 + x1**2 <= 4\n",
        "  \n",
        "z = classifier(xx,yy) # our classifier applied to the entire grid \n",
        "\n",
        "\n",
        "cm_bright = colors.ListedColormap(['#FF0000', '#0000FF']) #just colors\n",
        "plt.contourf(xx,yy,z,alpha=0.4,cmap=cm_bright) #plot the contours using our classifier results\n",
        "plt.scatter(x0,x1,c=y,s=20,cmap = cm_bright) #scatter plot of true data\n",
        "\n",
        "# labelling the plot\n",
        "plt.xlabel(\"x0\")\n",
        "plt.ylabel(\"x1\")\n",
        "plt.title(\"Classifier boundries vs true data results\")\n",
        "plt.show()"
      ],
      "execution_count": null,
      "outputs": [
        {
          "output_type": "display_data",
          "data": {
            "image/png": "[encoded data removed]",
            "text/plain": [
              "<Figure size 432x288 with 1 Axes>"
            ]
          },
          "metadata": {
            "needs_background": "light"
          }
        }
      ]
    }
  ]
}