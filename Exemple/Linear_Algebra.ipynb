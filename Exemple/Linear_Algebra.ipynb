{
  "nbformat": 4,
  "nbformat_minor": 0,
  "metadata": {
    "colab": {
      "name": "Copy of Linear-Algebra.ipynb",
      "provenance": [],
      "collapsed_sections": []
    },
    "kernelspec": {
      "display_name": "Python 3",
      "name": "python3"
    }
  },
  "cells": [
    {
      "cell_type": "markdown",
      "metadata": {
        "id": "yeA6xblhq8w8"
      },
      "source": [
        "# **Linear Algebra (Basics+python Impelmentations)**"
      ]
    },
    {
      "cell_type": "markdown",
      "metadata": {
        "id": "F-3yQvOQHjLr"
      },
      "source": [
        "Linear algebra is the branch of mathematics concerning linear equations and linear functions and their representations through matrices and vector spaces.\n",
        "\n",
        "Machine Learning relies heavily on Linear Algebra, so it is essential to understand what vectors and matrices are, what operations you can perform with them, and how they can be useful.\n",
        "\n",
        "If you have had no exposure at all to linear algebra or practical implementation, this class would be helpful to you\n",
        "\n",
        "If you are already familiar with linear algebra, feel free to skip this class \n"
      ]
    },
    {
      "cell_type": "markdown",
      "metadata": {
        "id": "4FmD3lJMvi5f"
      },
      "source": [
        "<div>\n",
        "<img src=\"https://drive.google.com/uc?export=view&id=1m478MlparnngiauNlmH--DEkqNjsYRgu\" width=\"500\"/>\n",
        "</div>"
      ]
    },
    {
      "cell_type": "markdown",
      "metadata": {
        "id": "pVd5e3A0vtYP"
      },
      "source": [
        "<div>\n",
        "<img src=\"https://drive.google.com/uc?export=view&id=1Qw8qBhC2bUvSheR05TzcUBz1NMMwxhID\" width=\"800\"/>\n",
        "</div>"
      ]
    },
    {
      "cell_type": "markdown",
      "metadata": {
        "id": "9Ttx9Wn47dRl"
      },
      "source": [
        "# 1. Import functions"
      ]
    },
    {
      "cell_type": "code",
      "metadata": {
        "id": "4cvzagFXgQrd"
      },
      "source": [
        "# All necessary import functions\n",
        "import numpy as np\n",
        "from numpy.linalg import eig\n",
        "from scipy.stats import norm"
      ],
      "execution_count": null,
      "outputs": []
    },
    {
      "cell_type": "markdown",
      "metadata": {
        "id": "JBpOlp4jrAoy"
      },
      "source": [
        "# 2. Scalars, Vectors, Matrices and Tensors"
      ]
    },
    {
      "cell_type": "markdown",
      "metadata": {
        "id": "kWXNG-cmHrih"
      },
      "source": [
        "__Scalars:__ are just a single number. For example temperature, which is denoted by just one number.\n",
        "\n",
        "\n",
        "__Vectors:__ are an array of numbers. The numbers are arranged in order and we can identify each individual number by its index in that ordering. We can think of vectors as identifying points in space, with each element giving the coordinate along a different axis. In simple terms, a vector is an arrow representing a quantity that has both magnitude and direction wherein the length of the arrow represents the magnitude and the orientation tells you the direction. For example wind, which has a direction and magnitude.\n",
        "\n",
        "__Matrices:__ A matrix is a 2D-array of numbers, so each element is identified by two indices instead of just one. If a real valued matrix $A$ has a height of *m* and a width of *n*, then we say that $A \\in \\mathbb{R}^{m \\times n}$. We identify the elements of the matrix as $A_{m,n}$ where *m* represents the row and *n* represents the column.\n",
        "\n",
        "\n",
        "<div>\n",
        "<img src=\"https://drive.google.com/uc?export=view&id=1VO-cfU6rStdv0ExEKqrDqUlKZAGQ5bIZ\" width=\"500\"/>\n",
        "</div>\n",
        "\n",
        "__Tensor:__\n",
        "\n",
        "<div>\n",
        "<img src=\"https://drive.google.com/uc?export=view&id=1BY-AdeqOG8EOqlmA-LaxnMErYcGlM8Ms\" width=\"500\"/>\n",
        "</div>\n",
        "\n",
        "\n",
        "\n"
      ]
    },
    {
      "cell_type": "markdown",
      "metadata": {
        "id": "HdIOKDSbNBaz"
      },
      "source": [
        "\n",
        "\n",
        "\n",
        "In other words:\n",
        "\n",
        "- Order 0 Tensor is a Scalar\n",
        "- Order 1 Tensor is a Vector\n",
        "- Order 2 Tensor is a Matrix\n",
        "- Order 3 Tensor is a 3-Tensor\n",
        "- Order n Tensor is a n-Tensor"
      ]
    },
    {
      "cell_type": "markdown",
      "metadata": {
        "id": "zFyD1lujaur-"
      },
      "source": [
        "# 3. Defining vectors"
      ]
    },
    {
      "cell_type": "markdown",
      "metadata": {
        "id": "POPSoVVGtihH"
      },
      "source": [
        "<div>\n",
        "<img src=\"https://drive.google.com/uc?export=view&id=1F8ehl1K-mYFrQweQ813mFfdXkgPpaFqy\" width=\"800\"/>\n",
        "</div>\n",
        "\n"
      ]
    },
    {
      "cell_type": "code",
      "metadata": {
        "colab": {
          "base_uri": "https://localhost:8080/"
        },
        "id": "J1B0T6Lmap4y",
        "outputId": "2fee7a94-e7c1-49eb-8e17-977ba1d01c5c"
      },
      "source": [
        "#Defining a Row-Vector\n",
        "row_vec=np.array([[5,7,9]])\n",
        "print(row_vec)\n",
        "print('The shape of the vector' , row_vec.shape)"
      ],
      "execution_count": null,
      "outputs": [
        {
          "output_type": "stream",
          "name": "stdout",
          "text": [
            "[[5 7 9]]\n",
            "The shape of the vector (1, 3)\n"
          ]
        }
      ]
    },
    {
      "cell_type": "code",
      "metadata": {
        "colab": {
          "base_uri": "https://localhost:8080/"
        },
        "id": "cbPjBiurag3Q",
        "outputId": "ecb0b16c-ebe2-4486-b9ab-15c0958dab61"
      },
      "source": [
        "#Defining a Column-Vector\n",
        "column_vec=np.array([[5,7,9]]).T\n",
        "print(column_vec)\n",
        "print('The shape of the vector' , column_vec.shape)"
      ],
      "execution_count": null,
      "outputs": [
        {
          "output_type": "stream",
          "name": "stdout",
          "text": [
            "[[5]\n",
            " [7]\n",
            " [9]]\n",
            "The shape of the vector (3, 1)\n"
          ]
        }
      ]
    },
    {
      "cell_type": "markdown",
      "metadata": {
        "id": "6-kJBvlw9zGr"
      },
      "source": [
        "# 4. About Matrix"
      ]
    },
    {
      "cell_type": "markdown",
      "metadata": {
        "id": "ey-lrnuHVb06"
      },
      "source": [
        "Images, Tables, Text data will be converted into Matrix for further manipulation and processing"
      ]
    },
    {
      "cell_type": "markdown",
      "metadata": {
        "id": "Gt9FWTqIUd2l"
      },
      "source": [
        "<div>\n",
        "<img src=\"https://drive.google.com/uc?export=view&id=1m2m82CoVxnkVoZpKMMQ_ygDLKLkgK8_s\" width=\"500\"/>\n",
        "</div>"
      ]
    },
    {
      "cell_type": "markdown",
      "metadata": {
        "id": "yTjK7iNIYGE_"
      },
      "source": [
        "## 4a. Matrix Operations"
      ]
    },
    {
      "cell_type": "code",
      "metadata": {
        "colab": {
          "base_uri": "https://localhost:8080/"
        },
        "id": "H5FZJ8QZbii_",
        "outputId": "2d12b8c1-0e37-4bad-95a3-0016c1e64829"
      },
      "source": [
        "# Defining a matrix\n",
        "matrix_A = np.array([[1, 1, 1],\n",
        "               [1,1, 1],\n",
        "               [1, 1, 1]])\n",
        "print(matrix_A)\n",
        "print('The shape of the matrix A is',matrix_A.shape)"
      ],
      "execution_count": null,
      "outputs": [
        {
          "output_type": "stream",
          "name": "stdout",
          "text": [
            "[[1 1 1]\n",
            " [1 1 1]\n",
            " [1 1 1]]\n",
            "The shape of the matrix A is (3, 3)\n"
          ]
        }
      ]
    },
    {
      "cell_type": "code",
      "metadata": {
        "colab": {
          "base_uri": "https://localhost:8080/"
        },
        "id": "5RrpNcdVbro7",
        "outputId": "06223313-bee2-4ef8-d3ae-0772e6977df1"
      },
      "source": [
        "# Defining a matrix\n",
        "matrix_B = np.array([[2, 4, 6],\n",
        "               [2, 4, 6],\n",
        "               [2, 4, 6]])\n",
        "print('The shape of the matrix B is',matrix_B.shape)"
      ],
      "execution_count": null,
      "outputs": [
        {
          "output_type": "stream",
          "name": "stdout",
          "text": [
            "The shape of the matrix B is (3, 3)\n"
          ]
        }
      ]
    },
    {
      "cell_type": "code",
      "metadata": {
        "colab": {
          "base_uri": "https://localhost:8080/"
        },
        "id": "i8GCejU0brsU",
        "outputId": "8177c3a0-8f51-4ddb-a5cc-cbdb1cb94af1"
      },
      "source": [
        "# Scalar * Matrix-multiplication\n",
        "\n",
        "10 * matrix_A"
      ],
      "execution_count": null,
      "outputs": [
        {
          "output_type": "execute_result",
          "data": {
            "text/plain": [
              "array([[10, 10, 10],\n",
              "       [10, 10, 10],\n",
              "       [10, 10, 10]])"
            ]
          },
          "metadata": {},
          "execution_count": 6
        }
      ]
    },
    {
      "cell_type": "markdown",
      "metadata": {
        "id": "N1amOvqR9dKs"
      },
      "source": [
        "We can add matrices to each other as long as they have the same shape, just by adding their corresponding elements:\n",
        "\n",
        "$$\\color{orange}{C = A + B \\ where \\ C_{i,j} = A_{i,j} + B_{i,j} \\tag{1}}$$"
      ]
    },
    {
      "cell_type": "code",
      "metadata": {
        "colab": {
          "base_uri": "https://localhost:8080/"
        },
        "id": "JCuBN-THcpTV",
        "outputId": "7a067493-2c89-4987-b722-e59497e287f5"
      },
      "source": [
        "#Matrix addition\n",
        "matrix_A + matrix_B"
      ],
      "execution_count": null,
      "outputs": [
        {
          "output_type": "execute_result",
          "data": {
            "text/plain": [
              "array([[3, 5, 7],\n",
              "       [3, 5, 7],\n",
              "       [3, 5, 7]])"
            ]
          },
          "metadata": {},
          "execution_count": 7
        }
      ]
    },
    {
      "cell_type": "markdown",
      "metadata": {
        "id": "hYjF58oMed-W"
      },
      "source": [
        "To compute the dot product between $A$ and $B$ we compute $C_{i, j}$ as the dot product between row *i* of $A$ and column *j* of $B$.\n",
        "\n",
        "![Dot Product](https://raw.githubusercontent.com/adhiraiyan/DeepLearningWithTF2.0/master/notebooks/figures/fig0202b.jpg)"
      ]
    },
    {
      "cell_type": "code",
      "metadata": {
        "colab": {
          "base_uri": "https://localhost:8080/"
        },
        "id": "eyh0L1hvedWU",
        "outputId": "10814c74-7813-4673-efb2-b236d2962682"
      },
      "source": [
        "#Matrix Mutliplication\n",
        "np.dot(matrix_A, matrix_B)"
      ],
      "execution_count": null,
      "outputs": [
        {
          "output_type": "execute_result",
          "data": {
            "text/plain": [
              "array([[ 6, 12, 18],\n",
              "       [ 6, 12, 18],\n",
              "       [ 6, 12, 18]])"
            ]
          },
          "metadata": {},
          "execution_count": 8
        }
      ]
    },
    {
      "cell_type": "code",
      "metadata": {
        "colab": {
          "base_uri": "https://localhost:8080/"
        },
        "id": "aNKmG6juEHVv",
        "outputId": "32635149-f4c4-4d80-d6f9-e5b2e451c933"
      },
      "source": [
        "#Transpose-Define not a square matrix\n",
        "matrix_A = np.array([[1, 1, 1,1],\n",
        "               [2,2,2,2],\n",
        "               [3,3,3,3]])\n",
        "transp=matrix_A.T\n",
        "print('Before Transpose')\n",
        "print(matrix_A.shape)\n",
        "print(matrix_A,'\\n')\n",
        "print('After Transpose')\n",
        "print(transp)\n",
        "print(transp.shape)"
      ],
      "execution_count": null,
      "outputs": [
        {
          "output_type": "stream",
          "name": "stdout",
          "text": [
            "Before Transpose\n",
            "(3, 4)\n",
            "[[1 1 1 1]\n",
            " [2 2 2 2]\n",
            " [3 3 3 3]] \n",
            "\n",
            "After Transpose\n",
            "[[1 2 3]\n",
            " [1 2 3]\n",
            " [1 2 3]\n",
            " [1 2 3]]\n",
            "(4, 3)\n"
          ]
        }
      ]
    },
    {
      "cell_type": "markdown",
      "metadata": {
        "id": "TFp23UDMDCfh"
      },
      "source": [
        "To define the matrix product of matrices $A \\ \\text{and} \\ B, \\ A$ must have the same number of columns as $B$. If $A$ is of shape *m x n* and $B$ is of shape *n x p*, then $C$ is of shape *m x p*.\n",
        "\n",
        "$$\\color{orange}{C_{i, j} = \\displaystyle\\sum_k A_{i, k} B_{k, j} \\tag{3}}$$\n",
        "\n",
        "If you do not recall how matrix multiplication is performed, take a look at:\n",
        "\n",
        "![Multiplying Matrices](https://raw.githubusercontent.com/adhiraiyan/DeepLearningWithTF2.0/master/notebooks/figures/fig0202a.jpg)"
      ]
    },
    {
      "cell_type": "code",
      "metadata": {
        "colab": {
          "base_uri": "https://localhost:8080/"
        },
        "id": "NhIhqTz1DB7-",
        "outputId": "78b49e38-2f57-4d0d-8fd4-39a62b3a3886"
      },
      "source": [
        "#Matrix-Vector multiplication\n",
        "#do a vector mul\n",
        "#(4,3) (3,1) --> (4,1)\n",
        "matrix_A= np.array([[ 5, 1 ,3], \n",
        "                  [ 1, 1 ,1], \n",
        "                  [ 1, 2 ,1],\n",
        "                   [ 1, 2 ,1]\n",
        "                    ])\n",
        "vector_b = np.array([[2],\n",
        "              [2],\n",
        "              [2]])\n",
        "result=matrix_A.dot(vector_b)\n",
        "print(matrix_A.shape,vector_b.shape)\n",
        "\n",
        "print(result)\n",
        "print('Shape of the result',result.shape)\n"
      ],
      "execution_count": null,
      "outputs": [
        {
          "output_type": "stream",
          "name": "stdout",
          "text": [
            "(4, 3) (3, 1)\n",
            "[[18]\n",
            " [ 6]\n",
            " [ 8]\n",
            " [ 8]]\n",
            "Shape of the result (4, 1)\n"
          ]
        }
      ]
    },
    {
      "cell_type": "code",
      "metadata": {
        "id": "j7PEF5jzlG4G",
        "colab": {
          "base_uri": "https://localhost:8080/"
        },
        "outputId": "86c3d2b0-2ad2-4320-f581-9e1a68a875fe"
      },
      "source": [
        "# not a perfect case for multiplication\n",
        "#Matrix-Matrix multiplication\n",
        "\n",
        "matrix_A= np.array([[ 5, 1 ], \n",
        "                  [ 1, 1 ], \n",
        "                  [ 1, 2 ]])\n",
        "vector_b = np.array([[1, 2],\n",
        "              [1, 2],\n",
        "              [1, 2]])\n",
        "print(matrix_A.shape,vector_b.shape)\n",
        "\n",
        "try:\n",
        "  result_case2=matrix_A.dot(vector_b)\n",
        "  print(result_case2)\n",
        "  print('Shape of the result',result_case2.shape)\n",
        "except:\n",
        "  print('The shapes are inappropriate for multiplication')\n",
        "\n",
        "\n"
      ],
      "execution_count": null,
      "outputs": [
        {
          "output_type": "stream",
          "name": "stdout",
          "text": [
            "(3, 2) (3, 2)\n",
            "The shapes is inappropriate for multiplication\n"
          ]
        }
      ]
    },
    {
      "cell_type": "markdown",
      "metadata": {
        "id": "0M2te4r1Ys8F"
      },
      "source": [
        "## 4b. Solving Equations Using Matrix"
      ]
    },
    {
      "cell_type": "markdown",
      "metadata": {
        "id": "VyyZR-U9D3aH"
      },
      "source": [
        "If you try different values for Matrix A, you will see that, not all $A$ has an inverse and we will discuss the conditions for the existence of $A^{-1}$ in the following section.\n",
        "\n",
        "We can then solve the equation $Ax = b$ as:\n",
        "\n",
        "$$\n",
        "\\color{Orange}{A^{-1} Ax = A^{-1} b} \\\\\n",
        "\\color{Orange}{I_n x = A^{-1} b} \\\\\n",
        "\\color{Orange}{x  =A^{-1} b \\tag{10}}\n",
        "$$\n",
        "where I is the Identity Matrix\n"
      ]
    },
    {
      "cell_type": "code",
      "metadata": {
        "id": "zlC_USBSdL8E"
      },
      "source": [
        "# Solving an equation- 2 unknown\n",
        "# 2x + 3y =8 --> equ 1\n",
        "# 3x + 2y =7 --> equ 2\n",
        "\n",
        "mat_A = np.array([[2, 3],\n",
        "               [3, 2]])\n",
        "vec_b = np.array([[8],[7]])"
      ],
      "execution_count": null,
      "outputs": []
    },
    {
      "cell_type": "code",
      "metadata": {
        "colab": {
          "base_uri": "https://localhost:8080/"
        },
        "id": "DqgZwIks-mwg",
        "outputId": "1366866a-36fb-4b0d-91bc-3f5fd2ec2ca8"
      },
      "source": [
        "#FInding A-Inverse\n",
        "A_inverse = np.linalg.inv(mat_A)\n",
        "print(A_inverse)"
      ],
      "execution_count": null,
      "outputs": [
        {
          "output_type": "stream",
          "name": "stdout",
          "text": [
            "[[-0.4  0.6]\n",
            " [ 0.6 -0.4]]\n"
          ]
        }
      ]
    },
    {
      "cell_type": "code",
      "metadata": {
        "colab": {
          "base_uri": "https://localhost:8080/"
        },
        "id": "GucIC4_gCSaY",
        "outputId": "195f8d81-dbde-4369-96c5-3b057ef4188f"
      },
      "source": [
        "# unknown values\n",
        "x= np.dot( A_inverse,vec_b) \n",
        "print(x)"
      ],
      "execution_count": null,
      "outputs": [
        {
          "output_type": "stream",
          "name": "stdout",
          "text": [
            "[[1.]\n",
            " [2.]]\n"
          ]
        }
      ]
    },
    {
      "cell_type": "code",
      "metadata": {
        "colab": {
          "base_uri": "https://localhost:8080/"
        },
        "id": "n0hJ6CWoCcKw",
        "outputId": "3f5f009a-eb35-400d-ede0-89ae8c6cec48"
      },
      "source": [
        "# Verification\n",
        "np.dot( mat_A,x)"
      ],
      "execution_count": null,
      "outputs": [
        {
          "output_type": "execute_result",
          "data": {
            "text/plain": [
              "array([[8.],\n",
              "       [7.]])"
            ]
          },
          "metadata": {},
          "execution_count": 15
        }
      ]
    },
    {
      "cell_type": "code",
      "metadata": {
        "id": "LYyk0oq4-mza"
      },
      "source": [
        "# Solving an equation- 3 unknown\n",
        "mat_A = np.array([[4, -2, 3],\n",
        "               [1, 3, -4],\n",
        "               [3, 1, 2]])\n",
        "vec_b = np.array([[1], [-7], [5]])\n"
      ],
      "execution_count": null,
      "outputs": []
    },
    {
      "cell_type": "code",
      "metadata": {
        "colab": {
          "base_uri": "https://localhost:8080/"
        },
        "id": "8dL__gUUc6X2",
        "outputId": "532d5c8f-761a-4147-c111-a7ce5b2b7014"
      },
      "source": [
        "x = np.linalg.solve(mat_A, vec_b)\n",
        "x"
      ],
      "execution_count": null,
      "outputs": [
        {
          "output_type": "execute_result",
          "data": {
            "text/plain": [
              "array([[-1.],\n",
              "       [ 2.],\n",
              "       [ 3.]])"
            ]
          },
          "metadata": {},
          "execution_count": 17
        }
      ]
    },
    {
      "cell_type": "code",
      "metadata": {
        "colab": {
          "base_uri": "https://localhost:8080/"
        },
        "id": "pNkFFjD0c6aQ",
        "outputId": "90e2dde5-92e4-4ad4-8769-9281505a70a0"
      },
      "source": [
        "# Verification\n",
        "np.dot(mat_A , x )# use np.dot"
      ],
      "execution_count": null,
      "outputs": [
        {
          "output_type": "execute_result",
          "data": {
            "text/plain": [
              "array([[ 1.],\n",
              "       [-7.],\n",
              "       [ 5.]])"
            ]
          },
          "metadata": {},
          "execution_count": 18
        }
      ]
    },
    {
      "cell_type": "markdown",
      "metadata": {
        "id": "ti7rKCuRaw-O"
      },
      "source": [
        "## Limitations of finding $A^{-1}$"
      ]
    },
    {
      "cell_type": "markdown",
      "metadata": {
        "id": "6U6eiC1gtk5s"
      },
      "source": [
        "• For $A ∈ R^{n×n}$ , |A| = 0 if and only if A is singular (i.e., non-invertible). (If A is singular\n",
        "then it does not have full rank, and hence its columns are linearly dependent. \n",
        "\n",
        "•  Not all matrices is invertible sometimes we cannot, we cannot find the $A^{-1}$\n",
        "\n",
        "• The computatinal complexity of finding $A^{-1}$ is $O(n^3)$ . ie, as the dataset size grows it expensive.\n"
      ]
    },
    {
      "cell_type": "markdown",
      "metadata": {
        "id": "rB0seiU_H-hx"
      },
      "source": [
        "# 5. Norms"
      ]
    },
    {
      "cell_type": "markdown",
      "metadata": {
        "id": "_ImemGhMFQge"
      },
      "source": [
        "In machine learning if we need to measure the magnitude of vectors, we use a function called a __norm__. And norm is what is generally used to evaluate the error of a model. Formally, the $L^P$ norm is given by:\n",
        "\n",
        "$$\\color{Orange}{||x||_p = \\big(\\displaystyle\\sum_i |x_i|^p\\big)^{1/p} \\tag{12}}$$\n",
        "\n",
        "for $p \\in \\mathbb{R}, p \\geq 1$\n",
        "\n",
        "The $L^2$ norm with *p=2* is known as the __Euclidean norm__. Which is simply the Euclidean distance from the origin to the point identified by $x$. It is also common to measure the size of a vector using the squared $L^2$ norm, which can be calculated simply as $x^{\\top}x$"
      ]
    },
    {
      "cell_type": "code",
      "metadata": {
        "id": "g7ftKi3znSq2"
      },
      "source": [
        "vec_a=np.array([4,3]) #rename the variable"
      ],
      "execution_count": null,
      "outputs": []
    },
    {
      "cell_type": "code",
      "metadata": {
        "id": "7lbf9vr5EBxC",
        "colab": {
          "base_uri": "https://localhost:8080/"
        },
        "outputId": "e6613b83-bb2f-40a4-ed05-4eb55f6a64e9"
      },
      "source": [
        "#Norm L1-Norm\n",
        "from numpy import linalg as LA\n",
        "norm1=LA.norm(vec_a ,1)\n",
        "print('L1-norm',norm1)"
      ],
      "execution_count": null,
      "outputs": [
        {
          "output_type": "stream",
          "name": "stdout",
          "text": [
            "L1-norm 7.0\n"
          ]
        }
      ]
    },
    {
      "cell_type": "code",
      "metadata": {
        "colab": {
          "base_uri": "https://localhost:8080/"
        },
        "id": "Z9WklvFVopZu",
        "outputId": "6493bb1b-1365-44aa-aa0c-8829a60b8cd7"
      },
      "source": [
        "#Finding L2-Norm\n",
        "norm2=LA.norm(vec_a)\n",
        "print('L2-norm',norm2)"
      ],
      "execution_count": null,
      "outputs": [
        {
          "output_type": "stream",
          "name": "stdout",
          "text": [
            "L2-norm 5.0\n"
          ]
        }
      ]
    },
    {
      "cell_type": "markdown",
      "metadata": {
        "id": "hSxrdQ4wo7-I"
      },
      "source": [
        "## Norms on Matrix"
      ]
    },
    {
      "cell_type": "markdown",
      "metadata": {
        "id": "vX85x6EEFD0N"
      },
      "source": [
        "\n",
        "If we wish to measure the magnitude of a matrix, in context of deep learning, the most common way to do this is with the __Frobenius norm__:\n",
        "\n",
        "$$\\color{Orange}{\\parallel A \\parallel_F = \\sqrt{\\displaystyle\\sum_{i, j} A^2_{i, j}} \\tag{16}}$$\n",
        "\n",
        "which is analogous to the $L^{2}$ norm of a vector.\n",
        "\n",
        "Meaning for example for a matrix:\n",
        "\n",
        "$$\n",
        "A =\n",
        "\\begin{pmatrix}\n",
        "2 & -1 & 5 \\\\\n",
        "0 & 2 & 1 \\\\\n",
        "3  & 1 & 1  \\\\\n",
        "\\end{pmatrix}\n",
        "$$\n",
        " \n",
        "$||A|| = [2^2 + (-1^2) + 5^2 + 0^2 + 2^2 + 1^2 + 3^2 + 1^2 + 1^2]^{1/2}$\n",
        "$ = [46]^{1/2}$\n"
      ]
    },
    {
      "cell_type": "code",
      "metadata": {
        "colab": {
          "base_uri": "https://localhost:8080/"
        },
        "id": "tqzOYr8VpAwm",
        "outputId": "93745810-a55f-4d58-ed5f-3ac24de17988"
      },
      "source": [
        "# Forbenius norm -L2 norm of a matrix\n",
        "matrix_A = np.array([[2,-1,5],[0,2,1],[3,1,1]])\n",
        "frob=LA.norm(matrix_A,'fro')\n",
        "print(frob)"
      ],
      "execution_count": null,
      "outputs": [
        {
          "output_type": "stream",
          "name": "stdout",
          "text": [
            "6.782329983125268\n"
          ]
        }
      ]
    },
    {
      "cell_type": "markdown",
      "metadata": {
        "id": "0ce-Dg7TXY_w"
      },
      "source": [
        "# 6. The Trace Operator\n"
      ]
    },
    {
      "cell_type": "markdown",
      "metadata": {
        "id": "eyqv8Z9LXdGQ"
      },
      "source": [
        "The trace operator gives the sum of all the diagonal entries of a matrix:\n",
        "\n",
        "$$\\color{Orange}{Tr(A) = \\displaystyle\\sum_i A_{i,i} \\tag{27}}$$\n"
      ]
    },
    {
      "cell_type": "code",
      "metadata": {
        "colab": {
          "base_uri": "https://localhost:8080/"
        },
        "id": "ebP_nyUMXaM4",
        "outputId": "f270c073-8840-4a22-aac0-f1cc3f9a0acb"
      },
      "source": [
        "# Defining the matrix\n",
        "matrix_A = np.array([[1,1,1],[0,1,2],[1,5,3]])\n",
        "print(matrix_A) \n",
        "\n",
        "# To find the trace of the matrix\n",
        "trace=matrix_A.trace()\n",
        "print('The trace of the matrix is',trace)"
      ],
      "execution_count": null,
      "outputs": [
        {
          "output_type": "stream",
          "name": "stdout",
          "text": [
            "[[1 1 1]\n",
            " [0 1 2]\n",
            " [1 5 3]]\n",
            "The trace of the matrix is 5\n"
          ]
        }
      ]
    },
    {
      "cell_type": "markdown",
      "metadata": {
        "id": "iqm-A3-mIIQ8"
      },
      "source": [
        "# 7. Eigenvalues and Eigenvectors"
      ]
    },
    {
      "cell_type": "markdown",
      "metadata": {
        "id": "eUWeAd4fbsfK"
      },
      "source": [
        "<div>\n",
        "<img src=\"https://drive.google.com/uc?export=view&id=1VcBBU6x7_H5n_yfZsPIUnalHVwHo7Ry6\" width=\"700\"/>\n",
        "</div>\n"
      ]
    },
    {
      "cell_type": "code",
      "metadata": {
        "id": "mCq9YQQHbr5I"
      },
      "source": [
        "\n",
        "# Percentage of marks and no. of hours studied\n",
        "#\n",
        "students = np.array([[85.4, 5],\n",
        "            [82.3, 6],\n",
        "            [97, 7],\n",
        "            [96.5, 6.5]])\n",
        "\n",
        "#Covariance matrix  (it is symmetric) encodes the correlations between variables of a vector.\n",
        "\n",
        "cov_matrix = np.cov(students.T)\n",
        "#\n",
        "# Calculate Eigenvalues and Eigenmatrix\n",
        "#\n",
        "eigenvalues, eigenvectors = eig(cov_matrix)"
      ],
      "execution_count": null,
      "outputs": []
    },
    {
      "cell_type": "code",
      "metadata": {
        "colab": {
          "base_uri": "https://localhost:8080/"
        },
        "id": "OULyr85CmKnP",
        "outputId": "f9c88c82-13ce-4169-b2a0-18a38fc9282f"
      },
      "source": [
        "print('Eigen values \\n' , eigenvalues)\n",
        "print('Eigen vectors \\n' , eigenvectors)"
      ],
      "execution_count": null,
      "outputs": [
        {
          "output_type": "stream",
          "name": "stdout",
          "text": [
            "Eigen values \n",
            " [57.5359938  0.3065062]\n",
            "Eigen vectors \n",
            " [[ 0.99630048 -0.08593813]\n",
            " [ 0.08593813  0.99630048]]\n"
          ]
        }
      ]
    },
    {
      "cell_type": "markdown",
      "metadata": {
        "id": "kDA-O_JRmcNG"
      },
      "source": [
        "Lets verify , $Av=\\lambda v$"
      ]
    },
    {
      "cell_type": "code",
      "metadata": {
        "colab": {
          "base_uri": "https://localhost:8080/"
        },
        "id": "ht7WeuZ6ma5l",
        "outputId": "8c136164-40bc-4760-b317-3c322729b857"
      },
      "source": [
        "# Left hand side\n",
        "cov_matrix.dot(eigenvectors[:, 0])"
      ],
      "execution_count": null,
      "outputs": [
        {
          "output_type": "execute_result",
          "data": {
            "text/plain": [
              "array([57.323138  ,  4.94453555])"
            ]
          },
          "metadata": {},
          "execution_count": 26
        }
      ]
    },
    {
      "cell_type": "code",
      "metadata": {
        "colab": {
          "base_uri": "https://localhost:8080/"
        },
        "id": "-ojHNJBImj9I",
        "outputId": "8754e6e7-7b2d-4195-f590-8864b5d26f1b"
      },
      "source": [
        "# Right hand side\n",
        "eigenvalues[0]*eigenvectors[:, 0]"
      ],
      "execution_count": null,
      "outputs": [
        {
          "output_type": "execute_result",
          "data": {
            "text/plain": [
              "array([57.323138  ,  4.94453555])"
            ]
          },
          "metadata": {},
          "execution_count": 27
        }
      ]
    },
    {
      "cell_type": "markdown",
      "metadata": {
        "id": "5cKOlkBLSr4A"
      },
      "source": [
        "For more idea on Eigenvalues and vectors --> https://www.youtube.com/watch?v=PFDu9oVAE-g&ab_channel=3Blue1Brown"
      ]
    },
    {
      "cell_type": "markdown",
      "metadata": {
        "id": "RdCHZ-sYwIAz"
      },
      "source": [
        "Real time applications in Machine Learning include **dimensionality Reduction (Principal Component Analysis)**\n"
      ]
    },
    {
      "cell_type": "markdown",
      "metadata": {
        "id": "AnxwVvwNylWT"
      },
      "source": [
        "\n",
        "\n",
        "**To Learn more about linear Algebra**\n",
        "\n",
        "\n",
        "1.   For a quick-brief reference, please refer to CS229 Standford materials (http://cs229.stanford.edu/section/cs229-linalg.pdf)\n",
        "2.   For a detailed course and in-depth understanding, we highly recommend this course\n",
        "Prof. Gilbert Strang’s on linear algebra( https://ocw.mit.edu/courses/mathematics/18-06-linear-algebra-spring-2010/video-lectures/)\n",
        "\n",
        "\n"
      ]
    },
    {
      "cell_type": "markdown",
      "metadata": {
        "id": "a_mkeFu_t1hC"
      },
      "source": [
        "# 💫 Congratulations\n",
        "\n",
        "You have successfully completed Brushup on Linear Algebra and learnt it through python implementations\n"
      ]
    }
  ]
}