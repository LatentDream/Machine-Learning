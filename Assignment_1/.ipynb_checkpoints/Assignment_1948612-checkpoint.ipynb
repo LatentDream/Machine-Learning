{
 "cells": [
  {
   "cell_type": "markdown",
   "metadata": {},
   "source": [
    "# Assignment 1 - INF8245E \n",
    "\n",
    "### Guillaume Thibault - 1948612"
   ]
  },
  {
   "cell_type": "code",
   "execution_count": 1,
   "metadata": {},
   "outputs": [],
   "source": [
    "# For Assigment\n",
    "import numpy as np\n",
    "import pandas as pd\n",
    "import matplotlib.pyplot as plt\n",
    "import matplotlib.colors as colors\n",
    "from math import sqrt, pow\n",
    "# For verification\n",
    "import numpy.polynomial.polynomial as poly"
   ]
  },
  {
   "cell_type": "markdown",
   "metadata": {},
   "source": [
    "## Part 1: Sampling\n",
    "A grad student’s daily routine is defined as a multinomial distribution, p, over the set\n",
    "of following activities:\n",
    "* Movies: 0.2\n",
    "* INF8245E: 0.4\n",
    "* Playing: 0.1\n",
    "* Studying: 0.3\n",
    "\n",
    "### Q1.1 \n",
    "Every morning, the student wakes up and randomly samples from this distribution\n",
    "an activity to do for the rest of the day. Provided that you can only sample\n",
    "from uniform distribution over (0,1), write a pseudocode to sample from the given\n",
    "multinomial distribution."
   ]
  },
  {
   "cell_type": "code",
   "execution_count": 2,
   "metadata": {},
   "outputs": [],
   "source": [
    "def sample_from_uniform_dist(p_vals) -> int:\n",
    "    '''\n",
    "    Brute force methode, but do it in O(n)\n",
    "    Return index number\n",
    "    \n",
    "    Pseudo code:\n",
    "    \"\"\"\"\"\"\"\n",
    "    p_values = [0.1, 0.6, 0.3]\n",
    "    \n",
    "    create cdf list from p_value\n",
    "    \n",
    "    sample form a uniform dist\n",
    "    \n",
    "    for each element of cdf\n",
    "        if u < element of cdf\n",
    "            return index of element\n",
    "    \"\"\"\"\"\"\"\n",
    "    \n",
    "    * Exist a better methode if we are doing large sample: Alias Methode \n",
    "        (Built a table in O(n log n) and sample the table in O(1))\n",
    "    '''\n",
    "    # Create a list with the cumulative probabilities\n",
    "    cdf = []\n",
    "    cumulatif = 0\n",
    "    for p in p_vals:\n",
    "        cumulatif += p\n",
    "        cdf.append(cumulatif)\n",
    "    \n",
    "    # Verification of the sum of p_vals\n",
    "    if cumulatif != 1: \n",
    "        raise ValueError(\"Sum of probabilities sould be 1\")\n",
    "    \n",
    "    # Generate randow value from a distribution [0,1]\n",
    "    u_val = np.random.uniform(low=0.0, high=1.0, size=None)\n",
    "    \n",
    "    # find the corresponding value\n",
    "    for i in range(0, len(cdf)):\n",
    "        if cdf[i] > u_val:\n",
    "            return i"
   ]
  },
  {
   "cell_type": "markdown",
   "metadata": {},
   "source": [
    "### Q1.2\n",
    "Implement your sampling algorithm and use it to sample the student’s routine for\n",
    "100 days. Report the fraction of days spent in each activity. Now use it to sample\n",
    "for 1000 days. Report the fraction of days spent in each activity. Compare these\n",
    "fractions to the underlying multinomial distribution."
   ]
  },
  {
   "cell_type": "code",
   "execution_count": 3,
   "metadata": {},
   "outputs": [
    {
     "name": "stdout",
     "output_type": "stream",
     "text": [
      "Report of the fractions of days spend on each activity \n",
      "\n",
      "For 100 days\n",
      " - Movies: 0.21%\n",
      " - INF8245E: 0.39%\n",
      " - Playing: 0.06%\n",
      " - Studying: 0.34% \n",
      "\n",
      "For 1000 days\n",
      " - Movies: 0.197%\n",
      " - INF8245E: 0.407%\n",
      " - Playing: 0.101%\n",
      " - Studying: 0.295% \n",
      "\n"
     ]
    }
   ],
   "source": [
    "def sample_student_activity(n_day: int) -> np.ndarray :\n",
    "    p_vals = [0.2, 0.4, 0.1, 0.3]\n",
    "    sample = [0]*len(p_vals)\n",
    "    for _ in range(0, n_day):\n",
    "        sample[sample_from_uniform_dist(p_vals)] += 1\n",
    "        \n",
    "    return sample\n",
    "\n",
    "def sample_student_activity_print(n_day: int)-> None:\n",
    "    sample = sample_student_activity(n_day)\n",
    "    print(f\"For {n_day} days\")\n",
    "    print(f\" - Movies: {sample[0] / n_day}%\")\n",
    "    print(f\" - INF8245E: {sample[1] / n_day}%\")\n",
    "    print(f\" - Playing: {sample[2] / n_day}%\")\n",
    "    print(f\" - Studying: {sample[3] / n_day}% \\n\")\n",
    "\n",
    "print(f\"Report of the fractions of days spend on each activity \\n\")\n",
    "sample_student_activity_print(100)\n",
    "sample_student_activity_print(1000)"
   ]
  },
  {
   "cell_type": "markdown",
   "metadata": {},
   "source": [
    "# Part 2: Model Selection\n",
    "You have to use Dataset-1 for this experiment. Dataset-1 consists of train, validation, and\n",
    "test files. The input is a real valued scalar and the output is also a real valued scalar. The\n",
    "dataset is generated from an n-degree polynomial and a small Gaussian noise is added to\n",
    "the target."
   ]
  },
  {
   "cell_type": "code",
   "execution_count": 4,
   "metadata": {},
   "outputs": [],
   "source": [
    "# TODO: ************ Change path before sending it ****************\n",
    "dataset_1_test = pd.read_csv(\"./Datasets/Dataset_1_test.csv\", header=None, usecols=[0,1])\n",
    "dataset_1_train = pd.read_csv(\"./Datasets/Dataset_1_train.csv\", header=None, usecols=[0,1])\n",
    "dataset_1_valid = pd.read_csv(\"./Datasets/Dataset_1_valid.csv\", header=None, usecols=[0,1])\n",
    "\n",
    "# Load test data\n",
    "# x_t = np.array([1, 2, 3, 5, 10])\n",
    "# y_t = np.array([1, 2, 5, 9, 19])\n",
    "# x_v = np.array([-1, 4, 3, 6, 8])\n",
    "# y_v = np.array([-3, 6, 5, 12, 15])\n",
    "\n",
    "# Load training and validation data\n",
    "data_t = pd.DataFrame(data={'x': dataset_1_train[0].to_numpy(), 'y': dataset_1_train[1].to_numpy()})\n",
    "data_v = pd.DataFrame(data={'x': dataset_1_valid[0].to_numpy(), 'y': dataset_1_valid[1].to_numpy()})\n",
    "data_test = pd.DataFrame(data={'x': dataset_1_test[0].to_numpy(), 'y': dataset_1_test[1].to_numpy()})\n",
    "# Polynomial deree to find\n",
    "poly_deg = 20"
   ]
  },
  {
   "cell_type": "code",
   "execution_count": 5,
   "metadata": {},
   "outputs": [],
   "source": [
    "# Usefull function\n",
    "def estimate(coefs, x):\n",
    "    \"\"\" x: int and np.array \"\"\"\n",
    "    estimation = 0\n",
    "    for i in range(len(coefs)):\n",
    "        estimation += coefs[i] * x**i \n",
    "    return estimation\n",
    "\n",
    "def rmse(coefs, x, y):\n",
    "    prediction = estimate(coefs, x)\n",
    "    mean_sum_error = sum(np.power(prediction - y, 2)) / len(x)\n",
    "    return sqrt(mean_sum_error)\n",
    "\n",
    "def print_polynomial(coefs, data_t, data_v) -> None:\n",
    "    x_t, y_t = data_t['x'], data_t['y']\n",
    "    x_v, y_v = data_v['x'], data_v['y']\n",
    "    some_x = np.linspace(min(min(x_t), min(x_v)), max(max(x_t), max(x_v)), 100)\n",
    "    some_y = poly.polyval(some_x, coefs)\n",
    "    plt.plot(some_x, some_y)\n",
    "    plt.plot(x_t, y_t, 'ro', color=\"blue\")\n",
    "    plt.plot(x_v, y_v, 'ro', color=\"green\")\n",
    "    plt.legend(['fit', 'training data', 'validation data'])\n",
    "    plt.axis([-1.05, 1.05, -20, 50])\n",
    "    plt.show()\n",
    "    \n",
    "def create_x_matrix_polynomial(x: np.array, degree: int) -> np.matrix:\n",
    "    # Create a Matrix with the ord and all the degree\n",
    "    shape = (len(x), degree + 1)\n",
    "    m = np.ones(shape)\n",
    "    # Don't change the first col (ord) and add x^deg where deg is one to degree\n",
    "    for col in range(0, m.shape[1]):\n",
    "        for row in range(1, m.shape[0]):\n",
    "            m[row, col] = np.power(x[row], col)\n",
    "    return np.asmatrix(m)\n",
    "\n",
    "def polynomial_eval(x: np.array, coeffs: np.array):\n",
    "    y_hat = np.array([coeffs[0,0]] * len(x))\n",
    "    for i in range(0, len(x)):\n",
    "        for c in range(1, len(coeffs)):\n",
    "            y_hat[i] += coeffs[c] * x[i] ** c\n",
    "    return y_hat\n",
    "\n",
    "def polynomial_fit(X: np.matrix, Y: np.matrix, lambda_regularization: int = 0):\n",
    "    \"\"\" return (X.T * X + lambda * I)^(-1) * X.T * Y \"\"\"\n",
    "    Xt = X.T\n",
    "    Xt_X = np.matmul(Xt, X)\n",
    "    # L2 regularization\n",
    "    Xt_X_L2 = Xt_X + lambda_regularization * np.identity(Xt_X.shape[0])         \n",
    "    Xt_X_L2_inv = np.linalg.inv(Xt_X_L2)\n",
    "    coefs = np.matmul(np.matmul(Xt_X_L2_inv, Xt), Y)\n",
    "    return np.squeeze(np.asarray(coefs))"
   ]
  },
  {
   "cell_type": "markdown",
   "metadata": {},
   "source": [
    "### Q 2.1\n",
    "Fit a 20-degree polynomial to the data.\n",
    "\n",
    "\n",
    "(a) Report the training and validation RMSE (Root Mean-Square Error). Do not use\n",
    "any regularization.\n",
    "\n",
    "(b) Visualize the fit.\n",
    "\n",
    "(c) Is the model overfitting or underfitting ? Why?"
   ]
  },
  {
   "cell_type": "code",
   "execution_count": 6,
   "metadata": {},
   "outputs": [
    {
     "name": "stdout",
     "output_type": "stream",
     "text": [
      "A) \n",
      "\n",
      "RMSE - Training set:   2.6725914866203953\n",
      "RMSE - Validation set: 4.934534526714249\n",
      "RMSE - Test set:       4.903739182397189\n",
      "\n",
      "B)\n"
     ]
    },
    {
     "data": {
      "image/png": "[encoded data removed]",
      "text/plain": [
       "<Figure size 432x288 with 1 Axes>"
      ]
     },
     "metadata": {
      "needs_background": "light"
     },
     "output_type": "display_data"
    },
    {
     "name": "stdout",
     "output_type": "stream",
     "text": [
      "C) \n",
      "\n",
      "Overfitting: RMSE : Le rmse de validation est deux fois plus élevé de celui de validation. Cela nous indique que le model over fit\n"
     ]
    }
   ],
   "source": [
    "# Create matrix with x at each degree up to deg\n",
    "X = create_x_matrix_polynomial(data_t['x'], poly_deg)\n",
    "\n",
    "# Find beta = (X.T * X)^(-1) * X.T * Y\n",
    "coefs = polynomial_fit(X, np.asmatrix(data_t['y']).T)\n",
    "\n",
    "# Calculate RMSE\n",
    "print(\"A) \\n\")\n",
    "print(f\"RMSE - Training set:   {rmse(coefs, data_t['x'], data_t['y'])}\")\n",
    "print(f\"RMSE - Validation set: {rmse(coefs, data_v['x'], data_v['y'])}\")\n",
    "print(f\"RMSE - Test set:       {rmse(coefs, data_test['x'], data_test['y'])}\")\n",
    "\n",
    "# B) Visualisation\n",
    "print(\"\\nB)\")\n",
    "print_polynomial(coefs, data_t, data_v)\n",
    "      \n",
    "# C) Is the model overfitting ?\n",
    "print(\"C) \\n\")\n",
    "print(f\"Overfitting: RMSE : Le rmse de validation est deux fois plus élevé de celui de validation. Cela nous indique que le model over fit\")"
   ]
  },
  {
   "cell_type": "code",
   "execution_count": 7,
   "metadata": {},
   "outputs": [
    {
     "name": "stdout",
     "output_type": "stream",
     "text": [
      "~~~~~ USING NUMPY ~~~~~ \n",
      "\n",
      "RMSE - Training set:   2.5445392637968958\n",
      "RMSE - Validation set: 37.66316994420773\n",
      "RMSE - Test set:       7.1150946430393915\n"
     ]
    },
    {
     "data": {
      "image/png": "[encoded data removed]",
      "text/plain": [
       "<Figure size 432x288 with 1 Axes>"
      ]
     },
     "metadata": {
      "needs_background": "light"
     },
     "output_type": "display_data"
    }
   ],
   "source": [
    "# Using full potential of numpy\n",
    "print(\"~~~~~ USING NUMPY ~~~~~ \\n\")\n",
    "# Find the coefs for a polynomial of deg\n",
    "coefs = poly.polyfit(data_t['x'], data_t['y'], poly_deg)\n",
    "\n",
    "print(f\"RMSE - Training set:   {rmse(coefs, data_t['x'], data_t['y'])}\")\n",
    "print(f\"RMSE - Validation set: {rmse(coefs, data_v['x'], data_v['y'])}\")\n",
    "print(f\"RMSE - Test set:       {rmse(coefs, data_test['x'], data_test['y'])}\")\n",
    "\n",
    "# B) Visualize the fit\n",
    "print_polynomial(coefs, data_t, data_v)"
   ]
  },
  {
   "cell_type": "markdown",
   "metadata": {},
   "source": [
    "###  Q 2.2 \n",
    "Now add L2 regularization to your model. Vary the value of λ from 0 to 1, with a 0.01\n",
    "step size.\n",
    "\n",
    "(a) For different values of λ, plot the training RMSE and the validation RMSE.\n",
    "\n",
    "(b) Find the best value of λ and report the test performance for the corresponding\n",
    "model.\n",
    "\n",
    "(c) Visualize the fit for the chosen model.\n",
    "\n",
    "(d) Is the model overfitting or underfitting ? Why?"
   ]
  },
  {
   "cell_type": "code",
   "execution_count": 8,
   "metadata": {},
   "outputs": [],
   "source": [
    "def find_best_lambda(X, data_t, data_v):\n",
    "    lam_L2, rmse_t, rmse_v = [], [], []\n",
    "    for l in np.arange(0, 1, 0.01):\n",
    "        coefs = polynomial_fit(X, np.asmatrix(data_t['y']).T, l)\n",
    "        lam_L2.append(l)\n",
    "        rmse_t.append(rmse(coefs, data_t['x'], data_t['y']))\n",
    "        rmse_v.append(rmse(coefs, data_v['x'], data_v['y']))\n",
    "    return lam_L2, rmse_t, rmse_v"
   ]
  },
  {
   "cell_type": "code",
   "execution_count": 9,
   "metadata": {},
   "outputs": [
    {
     "name": "stdout",
     "output_type": "stream",
     "text": [
      "A) For different values of λ, plot the training RMSE and the validation RMSE.\n"
     ]
    },
    {
     "data": {
      "image/png": "[encoded data removed]",
      "text/plain": [
       "<Figure size 432x288 with 1 Axes>"
      ]
     },
     "metadata": {
      "needs_background": "light"
     },
     "output_type": "display_data"
    },
    {
     "name": "stdout",
     "output_type": "stream",
     "text": [
      "B) Find the best value of λ and report the test performance for the corresponding model. \n",
      "\n",
      "The best λ found base on the rmse of the validation test\n",
      " λ: 0.99\n",
      " RMSE-V: 4.327222332330323\n",
      "\n",
      "The best λ found base on the rmse of the training test\n",
      " λ: 0.0\n",
      " RMSE-T: 2.6725914866203953\n",
      "\n",
      "C) Visualisation of the best fit (base one the validation set) \n",
      "\n"
     ]
    },
    {
     "data": {
      "image/png": "[encoded data removed]",
      "text/plain": [
       "<Figure size 432x288 with 1 Axes>"
      ]
     },
     "metadata": {
      "needs_background": "light"
     },
     "output_type": "display_data"
    },
    {
     "name": "stdout",
     "output_type": "stream",
     "text": [
      "D) Is the model overfitting or underfitting ? Why?\n"
     ]
    }
   ],
   "source": [
    "# Find the coefs of the polynomial for each lambda\n",
    "lam_L2, rmse_t, rmse_v = find_best_lambda(X, data_t, data_v)\n",
    "    \n",
    "print(\"A) For different values of λ, plot the training RMSE and the validation RMSE.\")\n",
    "plt.plot(np.array(lam_L2), np.array(rmse_t), 'ro', color=\"blue\")\n",
    "plt.plot(np.array(lam_L2), np.array(rmse_v), 'ro', color=\"green\")\n",
    "plt.legend(['Training data RMSE', 'Validation data RMSE'])\n",
    "plt.show()\n",
    "\n",
    "# B) \n",
    "print(\"B) Find the best value of λ and report the test performance for the corresponding model. \\n\")\n",
    "print(f\"The best λ found base on the rmse of the validation test\")\n",
    "best_v_fit_index = rmse_v.index(min(rmse_v))\n",
    "print(f\" λ: {lam_L2[best_v_fit_index]}\")\n",
    "print(f\" RMSE-V: {rmse_v[best_v_fit_index]}\")\n",
    "\n",
    "print(f\"\\nThe best λ found base on the rmse of the training test\")\n",
    "best_t_fit_index = rmse_t.index(min(rmse_t))\n",
    "print(f\" λ: {lam_L2[best_t_fit_index]}\")\n",
    "print(f\" RMSE-T: {rmse_t[best_t_fit_index]}\")\n",
    "\n",
    "# C) \n",
    "print(\"\\nC) Visualisation of the best fit (base one the validation set) \\n\")\n",
    "coefs = polynomial_fit(X, np.asmatrix(data_t['y']).T, lam_L2[best_v_fit_index])\n",
    "print_polynomial(coefs, data_t, data_v)\n",
    "\n",
    "# D\n",
    "print(\"D) Is the model overfitting or underfitting ? Why?\")"
   ]
  },
  {
   "cell_type": "markdown",
   "metadata": {},
   "source": [
    "### Q 2.3 \n",
    "What do you think is the degree of the source polynomial? Can you infer that from the\n",
    "visualization produced in the previous question?\n",
    "\n",
    "**Anwser here**"
   ]
  },
  {
   "cell_type": "markdown",
   "metadata": {},
   "source": [
    "# Part 3: Gradient Descent for Regression\n",
    "You have to use Dataset-2 for this experiment. Dataset-2 consists of train, validation, and\n",
    "test files. The input is a real valued scalar and the output is also a real valued scalar.\n"
   ]
  },
  {
   "cell_type": "code",
   "execution_count": 10,
   "metadata": {},
   "outputs": [],
   "source": [
    "# TODO: ************ Change path before sending it ****************\n",
    "dataset_2_test = pd.read_csv(\"./Datasets/Dataset_2_test.csv\", header=None, usecols=[0,1])\n",
    "dataset_2_train = pd.read_csv(\"./Datasets/Dataset_2_train.csv\", header=None, usecols=[0,1])\n",
    "dataset_2_valid = pd.read_csv(\"./Datasets/Dataset_2_valid.csv\", header=None, usecols=[0,1])\n",
    "\n",
    "# Load test data\n",
    "# x_t = np.array([1, 2, 3, 5, 10])\n",
    "# y_t = np.array([1, 2, 5, 9, 19])\n",
    "# x_v = np.array([-1, 4, 3, 6, 8])\n",
    "# y_v = np.array([-3, 6, 5, 12, 15])\n",
    "\n",
    "\n",
    "# Load training and validation data\n",
    "data_training = pd.DataFrame(data={'x': dataset_2_train[0].to_numpy(), 'y': dataset_2_train[1].to_numpy()})\n",
    "data_validation = pd.DataFrame(data={'x': dataset_2_valid[0].to_numpy(), 'y': dataset_2_valid[1].to_numpy()})\n",
    "data_testing = pd.DataFrame(data={'x': dataset_2_test[0].to_numpy(), 'y': dataset_2_test[1].to_numpy()})"
   ]
  },
  {
   "cell_type": "code",
   "execution_count": 11,
   "metadata": {},
   "outputs": [],
   "source": [
    "def y_hat(coefs, x):\n",
    "    \"\"\" x: int and np.array \"\"\"\n",
    "    return coefs[0] + (coefs[1] * x)\n",
    "\n",
    "def rmse(coefs, x, y):\n",
    "    prediction = y_hat(coefs, x)\n",
    "    mean_sum_error = sum(np.power(prediction - y, 2)) / len(x)\n",
    "    return sqrt(mean_sum_error)\n",
    "\n",
    "def compute_gradient(coefs, x, y):\n",
    "    e = coefs[0] + coefs[1] * x - y\n",
    "    return np.array([np.sum(e), np.sum(e * x)])\n",
    "\n",
    "def stochastic_gradient_fit(data_t: pd.DataFrame, data_v: pd.DataFrame, learning_rate: float, epoche_break=-1) -> (list, int):\n",
    "    \"\"\"\n",
    "    Find the coefs of a linear regression using stochastic gradient descent\n",
    "    @param: \n",
    "        - x: Input (Training data) \n",
    "        - y: Expected output (Training data)\n",
    "        - learning_rate: Step\n",
    "        - epoche_break: < 0 No cutoff / > 0 Number of iteration before stopping the algo \n",
    "        - convergence: difference between epoche to break the loop\n",
    "    \n",
    "    @return coefs: list, epoche_count\n",
    "    \n",
    "    for i in range(num_epochs):\n",
    "        np.random.shuffle(data)\n",
    "        for example in data:\n",
    "            grad = compute_gradient(example, params)\n",
    "            params = params — learning_rate * grad\n",
    "    \"\"\"\n",
    "    degre = 1\n",
    "    coefs = [1.0] * (degre + 1)\n",
    "    epoche_count = 0\n",
    "    rmse_v_old = rmse(coefs, data_v['x'], data_v['y'])\n",
    "    \n",
    "    while True:\n",
    "        # Shuffle of the data \n",
    "        data_t = data_t.sample(frac = 1)\n",
    "    \n",
    "        # Epoche\n",
    "        for i in range (0, len(data_t['x'])):\n",
    "            gradient = compute_gradient(coefs, data_t['x'][i], data_t['y'][i])\n",
    "            coefs = coefs - learning_rate * gradient\n",
    "    \n",
    "        # Check convergence\n",
    "        rmse_v = rmse(coefs, data_v['x'], data_v['y'])\n",
    "        if rmse_v > rmse_v_old or epoche_count == epoche_break:\n",
    "            epoche_count += 1\n",
    "            break\n",
    "        epoche_count += 1\n",
    "        rmse_v_old = rmse_v\n",
    "\n",
    "    return coefs, epoche_count\n",
    "\n",
    "# Plot the result\n",
    "def print_regression(coefs, data_t, data_v) -> None:\n",
    "    some_x = np.linspace(min(min(data_t['x']), min(data_v['x'])), max(max(data_t['x']), max(data_v['x'])), 100)\n",
    "    some_y = y_hat(np.array(coefs), some_x)\n",
    "    plt.plot(data_t['x'], data_t['y'], 'ro', color=\"blue\")\n",
    "    plt.plot(data_v['x'], data_v['y'], 'ro', color=\"green\")\n",
    "    plt.plot(some_x, some_y, color=\"red\")\n",
    "    plt.legend(['training data', 'validation data', 'fit'])\n",
    "    plt.show()"
   ]
  },
  {
   "cell_type": "code",
   "execution_count": 12,
   "metadata": {},
   "outputs": [
    {
     "name": "stdout",
     "output_type": "stream",
     "text": [
      "RMSE validation: 0.2721417485493501\n",
      "RMSE test: 0.26311734625718175\n",
      "Fit at epoche number: 8591\n"
     ]
    },
    {
     "data": {
      "image/png": "[encoded data removed]",
      "text/plain": [
       "<Figure size 432x288 with 1 Axes>"
      ]
     },
     "metadata": {
      "needs_background": "light"
     },
     "output_type": "display_data"
    }
   ],
   "source": [
    "# Visulation of the answer\n",
    "learning_rate = 0.0001\n",
    "coefs, epoche_taken = stochastic_gradient_fit(data_training, data_validation, learning_rate)\n",
    "\n",
    "print(f\"RMSE validation: {rmse(coefs, data_validation['x'], data_validation['y'])}\")\n",
    "print(f\"RMSE test: {rmse(coefs, data_testing['x'], data_testing['y'])}\")\n",
    "print(f\"Fit at epoche number: {epoche_taken}\")\n",
    "print_regression(coefs, data_training, data_validation)"
   ]
  },
  {
   "cell_type": "markdown",
   "metadata": {},
   "source": [
    "Fit a linear regression model to this dataset by using stochastic gradient descent (one\n",
    "example at a time).\n",
    "\n",
    "(a) Using a step size of 10−4, plot the training and validation RMSE against the number of epochs, until convergence."
   ]
  },
  {
   "cell_type": "code",
   "execution_count": 13,
   "metadata": {},
   "outputs": [
    {
     "name": "stdout",
     "output_type": "stream",
     "text": [
      "rmse validation: 2.1671708701128165\n"
     ]
    },
    {
     "data": {
      "image/png": "[encoded data removed]",
      "text/plain": [
       "<Figure size 432x288 with 1 Axes>"
      ]
     },
     "metadata": {
      "needs_background": "light"
     },
     "output_type": "display_data"
    }
   ],
   "source": [
    "degre = 1\n",
    "coefs = [1.0] * (degre + 1)\n",
    "alpha = 0.0001\n",
    "iter_cutoff = 10000\n",
    "iter_count = 0\n",
    "\n",
    "n_iter = [0]\n",
    "rmse_t = [rmse(coefs, data_training['x'], data_training['y'])]\n",
    "rmse_v = [rmse(coefs, data_validation['x'], data_validation['y'])]\n",
    "\n",
    "# Find coefs of the regression\n",
    "while True:\n",
    "    old_coefs = coefs.copy()\n",
    "    data_t = data_t.sample(frac = 1)\n",
    "    \n",
    "    # Epoche\n",
    "    for i in range (0, len(data_t['x'])):\n",
    "        gradient = compute_gradient(coefs, data_t['x'][i], data_t['y'][i])\n",
    "        coefs = coefs - learning_rate * gradient\n",
    "    \n",
    "    # Save RMSE info\n",
    "    n_iter.append(iter_count) \n",
    "    rmse_t.append(rmse(coefs, data_training['x'], data_training['y'])) \n",
    "    rmse_v.append(rmse(coefs, data_validation['x'], data_validation['y']))\n",
    "    \n",
    "    # Check convergence\n",
    "    if rmse_v[-1] > rmse_v[-2]:\n",
    "        break\n",
    "    iter_count += 1\n",
    "\n",
    "print(f\"rmse validation: {rmse_v[-1]}\")\n",
    "plt.plot(n_iter, rmse_t, 'ro', color=\"blue\")\n",
    "plt.plot(n_iter, rmse_v, 'ro', color=\"green\")\n",
    "plt.legend(['RMSE training data', 'RMSE validation data']) \n",
    "plt.show()"
   ]
  },
  {
   "cell_type": "markdown",
   "metadata": {},
   "source": [
    "### Q 3.2 \n",
    "Try different step sizes and choose the best step size by using the validation data.\n",
    "\n",
    "(a) Report in a table the validation performance with different step-sizes."
   ]
  },
  {
   "cell_type": "code",
   "execution_count": 14,
   "metadata": {},
   "outputs": [
    {
     "name": "stdout",
     "output_type": "stream",
     "text": [
      "     alpha    rmse_v\n",
      "0  0.00100  0.272005\n",
      "1  0.00010  0.272142\n",
      "2  0.00001  0.272157\n"
     ]
    }
   ],
   "source": [
    "data = {'alpha': [], 'rmse_v': []}\n",
    "for i in range(3, 6):\n",
    "    learning_rate = 1/(10**i)\n",
    "    coefs, n_epoche = stochastic_gradient_fit(data_training, data_validation, learning_rate, 50000)\n",
    "    data['alpha'].append(learning_rate)\n",
    "    data['rmse_v'].append(rmse(coefs, data_validation['x'], data_validation['y']))\n",
    "\n",
    "df = pd.DataFrame(data=data)\n",
    "print(df)"
   ]
  },
  {
   "cell_type": "markdown",
   "metadata": {},
   "source": [
    "(b) Report the test RMSE of the chosen model."
   ]
  },
  {
   "cell_type": "markdown",
   "metadata": {},
   "source": [
    "### Q 3.3\n",
    "Report 5 different visualizations chosen at random to illustrate how the regression fit\n",
    "evolves during the training process."
   ]
  },
  {
   "cell_type": "code",
   "execution_count": 15,
   "metadata": {},
   "outputs": [
    {
     "name": "stdout",
     "output_type": "stream",
     "text": [
      "Fit at epoche number: 0\n"
     ]
    },
    {
     "data": {
      "image/png": "[encoded data removed]",
      "text/plain": [
       "<Figure size 432x288 with 1 Axes>"
      ]
     },
     "metadata": {
      "needs_background": "light"
     },
     "output_type": "display_data"
    },
    {
     "name": "stdout",
     "output_type": "stream",
     "text": [
      "Fit at epoche number: 5\n"
     ]
    },
    {
     "data": {
      "image/png": "[encoded data removed]",
      "text/plain": [
       "<Figure size 432x288 with 1 Axes>"
      ]
     },
     "metadata": {
      "needs_background": "light"
     },
     "output_type": "display_data"
    },
    {
     "name": "stdout",
     "output_type": "stream",
     "text": [
      "Fit at epoche number: 6\n"
     ]
    },
    {
     "data": {
      "image/png": "[encoded data removed]",
      "text/plain": [
       "<Figure size 432x288 with 1 Axes>"
      ]
     },
     "metadata": {
      "needs_background": "light"
     },
     "output_type": "display_data"
    },
    {
     "name": "stdout",
     "output_type": "stream",
     "text": [
      "Fit at epoche number: 7\n"
     ]
    },
    {
     "data": {
      "image/png": "[encoded data removed]",
      "text/plain": [
       "<Figure size 432x288 with 1 Axes>"
      ]
     },
     "metadata": {
      "needs_background": "light"
     },
     "output_type": "display_data"
    },
    {
     "name": "stdout",
     "output_type": "stream",
     "text": [
      "Fit at epoche number: 8\n"
     ]
    },
    {
     "data": {
      "image/png": "[encoded data removed]",
      "text/plain": [
       "<Figure size 432x288 with 1 Axes>"
      ]
     },
     "metadata": {
      "needs_background": "light"
     },
     "output_type": "display_data"
    },
    {
     "name": "stdout",
     "output_type": "stream",
     "text": [
      "Fit at epoche number: 937\n"
     ]
    },
    {
     "data": {
      "image/png": "[encoded data removed]",
      "text/plain": [
       "<Figure size 432x288 with 1 Axes>"
      ]
     },
     "metadata": {
      "needs_background": "light"
     },
     "output_type": "display_data"
    }
   ],
   "source": [
    "alpha = 0.001\n",
    "n_epoche_taken = 10\n",
    "\n",
    "epoche_breaks = [np.random.randint(n_epoche_taken) for _ in range(0, 5)]\n",
    "epoche_breaks.sort()\n",
    "epoche_breaks.append(-1)\n",
    "\n",
    "for epoche_break in epoche_breaks:\n",
    "    coefs, epoche_taken = stochastic_gradient_fit(data_training, data_validation, alpha, epoche_break)\n",
    "    print(f\"Fit at epoche number: {epoche_break if epoche_break != -1 else epoche_taken}\")\n",
    "    print_regression(coefs, data_training, data_validation)\n",
    "    \n"
   ]
  },
  {
   "cell_type": "markdown",
   "metadata": {},
   "source": [
    "### Q 3.4 \n",
    "Repeat part 1 using full-batch gradient descent."
   ]
  },
  {
   "cell_type": "code",
   "execution_count": 16,
   "metadata": {},
   "outputs": [
    {
     "name": "stdout",
     "output_type": "stream",
     "text": [
      "rmse validation (final): 0.2721587436636629\n"
     ]
    },
    {
     "name": "stderr",
     "output_type": "stream",
     "text": [
      "/Users/guillaumethibault/opt/anaconda3/lib/python3.7/site-packages/IPython/core/pylabtools.py:128: UserWarning: Creating legend with loc=\"best\" can be slow with large amounts of data.\n",
      "  fig.canvas.print_figure(bytes_io, **kw)\n"
     ]
    },
    {
     "data": {
      "image/png": "[encoded data removed]",
      "text/plain": [
       "<Figure size 432x288 with 1 Axes>"
      ]
     },
     "metadata": {
      "needs_background": "light"
     },
     "output_type": "display_data"
    },
    {
     "name": "stdout",
     "output_type": "stream",
     "text": [
      "Fit on the data obtain with the full batch gradient\n"
     ]
    },
    {
     "data": {
      "image/png": "[encoded data removed]",
      "text/plain": [
       "<Figure size 432x288 with 1 Axes>"
      ]
     },
     "metadata": {
      "needs_background": "light"
     },
     "output_type": "display_data"
    }
   ],
   "source": [
    "def compute_gradient(coefs, x, y):\n",
    "    e = coefs[0] + coefs[1] * x - y\n",
    "    return np.array([np.sum(e), np.sum(e * x)])\n",
    "\n",
    "\n",
    "def full_batch_gradient_descent_info(data_t, data_v, coefs, learning_rate):\n",
    "    n = len(data_t['x'])\n",
    "    epoche_count = 0\n",
    "    n_epoche = [epoche_count]\n",
    "    rmse_t = [rmse(coefs, data_t['x'], data_t['y'])]\n",
    "    rmse_v = [rmse(coefs, data_v['x'], data_v['y'])]\n",
    "\n",
    "    while True:\n",
    "        \n",
    "        # Gradient descent\n",
    "        grad = compute_gradient(coefs, data_t['x'], data_t['y'])\n",
    "        coefs = coefs - learning_rate * (1/n) * grad\n",
    "        \n",
    "        # Save RMSE info\n",
    "        n_epoche.append(epoche_count) \n",
    "        rmse_t.append(rmse(coefs, data_t['x'], data_v['y']))\n",
    "        rmse_v.append(rmse(coefs, data_v['x'], data_v['y']))\n",
    "        \n",
    "        # Check if converged \n",
    "        epoche_count += 1\n",
    "        if rmse_v[-1] > rmse_v[-2]:\n",
    "            break\n",
    "        \n",
    "    return coefs, n_epoche, rmse_v, rmse_t\n",
    "\n",
    "learning_rate = 0.0001\n",
    "degree = 1\n",
    "coefs = np.array([1.0] * (degree + 1))\n",
    "coefs, n_epoche, rmse_v, rmse_t = full_batch_gradient_descent_info(data_training, data_validation, coefs, learning_rate)\n",
    "\n",
    "print(f\"rmse validation (final): {rmse_v[-1]}\")\n",
    "plt.plot(n_epoche, rmse_t, 'ro', color=\"blue\")\n",
    "plt.plot(n_epoche, rmse_v, 'ro', color=\"green\")\n",
    "plt.legend(['RMSE training data', 'RMSE validation data']) \n",
    "plt.show()\n",
    "\n",
    "print(f\"Fit on the data obtain with the full batch gradient\")\n",
    "print_regression(coefs, data_training, data_validation)"
   ]
  },
  {
   "cell_type": "markdown",
   "metadata": {},
   "source": [
    "### Q3.5 \n",
    "Comment on the difference between full-batch gradient descent and stochastic gradient\n",
    "descent based on your experiments."
   ]
  },
  {
   "cell_type": "code",
   "execution_count": 17,
   "metadata": {},
   "outputs": [
    {
     "name": "stdout",
     "output_type": "stream",
     "text": [
      "0.2721587436636629\n"
     ]
    }
   ],
   "source": [
    "print(rmse_v[-1])"
   ]
  },
  {
   "cell_type": "markdown",
   "metadata": {},
   "source": [
    "# Part 4: Real life dataset - Not Done - Lack of time\n",
    "For this question, you will use the Communities and Crime Data Set from the UCI repository\n",
    "(http://archive.ics.uci.edu/ml/datasets/Communities+and+Crime).\n",
    "\n"
   ]
  },
  {
   "cell_type": "code",
   "execution_count": 100,
   "metadata": {},
   "outputs": [],
   "source": [
    "df_with_NaN = pd.read_csv(\"./Datasets/part_4_data.csv\", na_values=[\"?\"])"
   ]
  },
  {
   "cell_type": "code",
   "execution_count": 101,
   "metadata": {},
   "outputs": [
    {
     "data": {
      "text/html": [
       "<div>\n",
       "<style scoped>\n",
       "    .dataframe tbody tr th:only-of-type {\n",
       "        vertical-align: middle;\n",
       "    }\n",
       "\n",
       "    .dataframe tbody tr th {\n",
       "        vertical-align: top;\n",
       "    }\n",
       "\n",
       "    .dataframe thead th {\n",
       "        text-align: right;\n",
       "    }\n",
       "</style>\n",
       "<table border=\"1\" class=\"dataframe\">\n",
       "  <thead>\n",
       "    <tr style=\"text-align: right;\">\n",
       "      <th></th>\n",
       "      <th>state</th>\n",
       "      <th>county</th>\n",
       "      <th>community</th>\n",
       "      <th>communityname</th>\n",
       "      <th>fold</th>\n",
       "      <th>population</th>\n",
       "      <th>householdsize</th>\n",
       "      <th>racepctblack</th>\n",
       "      <th>racePctWhite</th>\n",
       "      <th>racePctAsian</th>\n",
       "      <th>...</th>\n",
       "      <th>LandArea</th>\n",
       "      <th>PopDens</th>\n",
       "      <th>PctUsePubTrans</th>\n",
       "      <th>PolicCars</th>\n",
       "      <th>PolicOperBudg</th>\n",
       "      <th>LemasPctPolicOnPatr</th>\n",
       "      <th>LemasGangUnitDeploy</th>\n",
       "      <th>LemasPctOfficDrugUn</th>\n",
       "      <th>PolicBudgPerPop</th>\n",
       "      <th>ViolentCrimesPerPop</th>\n",
       "    </tr>\n",
       "  </thead>\n",
       "  <tbody>\n",
       "    <tr>\n",
       "      <td>0</td>\n",
       "      <td>8</td>\n",
       "      <td>NaN</td>\n",
       "      <td>NaN</td>\n",
       "      <td>Lakewoodcity</td>\n",
       "      <td>1</td>\n",
       "      <td>0.19</td>\n",
       "      <td>0.33</td>\n",
       "      <td>0.02</td>\n",
       "      <td>0.90</td>\n",
       "      <td>0.12</td>\n",
       "      <td>...</td>\n",
       "      <td>0.12</td>\n",
       "      <td>0.26</td>\n",
       "      <td>0.20</td>\n",
       "      <td>0.06</td>\n",
       "      <td>0.04</td>\n",
       "      <td>0.90</td>\n",
       "      <td>0.5</td>\n",
       "      <td>0.32</td>\n",
       "      <td>0.14</td>\n",
       "      <td>0.20</td>\n",
       "    </tr>\n",
       "    <tr>\n",
       "      <td>1</td>\n",
       "      <td>53</td>\n",
       "      <td>NaN</td>\n",
       "      <td>NaN</td>\n",
       "      <td>Tukwilacity</td>\n",
       "      <td>1</td>\n",
       "      <td>0.00</td>\n",
       "      <td>0.16</td>\n",
       "      <td>0.12</td>\n",
       "      <td>0.74</td>\n",
       "      <td>0.45</td>\n",
       "      <td>...</td>\n",
       "      <td>0.02</td>\n",
       "      <td>0.12</td>\n",
       "      <td>0.45</td>\n",
       "      <td>NaN</td>\n",
       "      <td>NaN</td>\n",
       "      <td>NaN</td>\n",
       "      <td>NaN</td>\n",
       "      <td>0.00</td>\n",
       "      <td>NaN</td>\n",
       "      <td>0.67</td>\n",
       "    </tr>\n",
       "    <tr>\n",
       "      <td>2</td>\n",
       "      <td>24</td>\n",
       "      <td>NaN</td>\n",
       "      <td>NaN</td>\n",
       "      <td>Aberdeentown</td>\n",
       "      <td>1</td>\n",
       "      <td>0.00</td>\n",
       "      <td>0.42</td>\n",
       "      <td>0.49</td>\n",
       "      <td>0.56</td>\n",
       "      <td>0.17</td>\n",
       "      <td>...</td>\n",
       "      <td>0.01</td>\n",
       "      <td>0.21</td>\n",
       "      <td>0.02</td>\n",
       "      <td>NaN</td>\n",
       "      <td>NaN</td>\n",
       "      <td>NaN</td>\n",
       "      <td>NaN</td>\n",
       "      <td>0.00</td>\n",
       "      <td>NaN</td>\n",
       "      <td>0.43</td>\n",
       "    </tr>\n",
       "    <tr>\n",
       "      <td>3</td>\n",
       "      <td>34</td>\n",
       "      <td>5.0</td>\n",
       "      <td>81440.0</td>\n",
       "      <td>Willingborotownship</td>\n",
       "      <td>1</td>\n",
       "      <td>0.04</td>\n",
       "      <td>0.77</td>\n",
       "      <td>1.00</td>\n",
       "      <td>0.08</td>\n",
       "      <td>0.12</td>\n",
       "      <td>...</td>\n",
       "      <td>0.02</td>\n",
       "      <td>0.39</td>\n",
       "      <td>0.28</td>\n",
       "      <td>NaN</td>\n",
       "      <td>NaN</td>\n",
       "      <td>NaN</td>\n",
       "      <td>NaN</td>\n",
       "      <td>0.00</td>\n",
       "      <td>NaN</td>\n",
       "      <td>0.12</td>\n",
       "    </tr>\n",
       "    <tr>\n",
       "      <td>4</td>\n",
       "      <td>42</td>\n",
       "      <td>95.0</td>\n",
       "      <td>6096.0</td>\n",
       "      <td>Bethlehemtownship</td>\n",
       "      <td>1</td>\n",
       "      <td>0.01</td>\n",
       "      <td>0.55</td>\n",
       "      <td>0.02</td>\n",
       "      <td>0.95</td>\n",
       "      <td>0.09</td>\n",
       "      <td>...</td>\n",
       "      <td>0.04</td>\n",
       "      <td>0.09</td>\n",
       "      <td>0.02</td>\n",
       "      <td>NaN</td>\n",
       "      <td>NaN</td>\n",
       "      <td>NaN</td>\n",
       "      <td>NaN</td>\n",
       "      <td>0.00</td>\n",
       "      <td>NaN</td>\n",
       "      <td>0.03</td>\n",
       "    </tr>\n",
       "    <tr>\n",
       "      <td>...</td>\n",
       "      <td>...</td>\n",
       "      <td>...</td>\n",
       "      <td>...</td>\n",
       "      <td>...</td>\n",
       "      <td>...</td>\n",
       "      <td>...</td>\n",
       "      <td>...</td>\n",
       "      <td>...</td>\n",
       "      <td>...</td>\n",
       "      <td>...</td>\n",
       "      <td>...</td>\n",
       "      <td>...</td>\n",
       "      <td>...</td>\n",
       "      <td>...</td>\n",
       "      <td>...</td>\n",
       "      <td>...</td>\n",
       "      <td>...</td>\n",
       "      <td>...</td>\n",
       "      <td>...</td>\n",
       "      <td>...</td>\n",
       "      <td>...</td>\n",
       "    </tr>\n",
       "    <tr>\n",
       "      <td>1989</td>\n",
       "      <td>12</td>\n",
       "      <td>NaN</td>\n",
       "      <td>NaN</td>\n",
       "      <td>TempleTerracecity</td>\n",
       "      <td>10</td>\n",
       "      <td>0.01</td>\n",
       "      <td>0.40</td>\n",
       "      <td>0.10</td>\n",
       "      <td>0.87</td>\n",
       "      <td>0.12</td>\n",
       "      <td>...</td>\n",
       "      <td>0.01</td>\n",
       "      <td>0.28</td>\n",
       "      <td>0.05</td>\n",
       "      <td>NaN</td>\n",
       "      <td>NaN</td>\n",
       "      <td>NaN</td>\n",
       "      <td>NaN</td>\n",
       "      <td>0.00</td>\n",
       "      <td>NaN</td>\n",
       "      <td>0.09</td>\n",
       "    </tr>\n",
       "    <tr>\n",
       "      <td>1990</td>\n",
       "      <td>6</td>\n",
       "      <td>NaN</td>\n",
       "      <td>NaN</td>\n",
       "      <td>Seasidecity</td>\n",
       "      <td>10</td>\n",
       "      <td>0.05</td>\n",
       "      <td>0.96</td>\n",
       "      <td>0.46</td>\n",
       "      <td>0.28</td>\n",
       "      <td>0.83</td>\n",
       "      <td>...</td>\n",
       "      <td>0.02</td>\n",
       "      <td>0.37</td>\n",
       "      <td>0.20</td>\n",
       "      <td>NaN</td>\n",
       "      <td>NaN</td>\n",
       "      <td>NaN</td>\n",
       "      <td>NaN</td>\n",
       "      <td>0.00</td>\n",
       "      <td>NaN</td>\n",
       "      <td>0.45</td>\n",
       "    </tr>\n",
       "    <tr>\n",
       "      <td>1991</td>\n",
       "      <td>9</td>\n",
       "      <td>9.0</td>\n",
       "      <td>80070.0</td>\n",
       "      <td>Waterburytown</td>\n",
       "      <td>10</td>\n",
       "      <td>0.16</td>\n",
       "      <td>0.37</td>\n",
       "      <td>0.25</td>\n",
       "      <td>0.69</td>\n",
       "      <td>0.04</td>\n",
       "      <td>...</td>\n",
       "      <td>0.08</td>\n",
       "      <td>0.32</td>\n",
       "      <td>0.18</td>\n",
       "      <td>0.08</td>\n",
       "      <td>0.06</td>\n",
       "      <td>0.78</td>\n",
       "      <td>0.0</td>\n",
       "      <td>0.91</td>\n",
       "      <td>0.28</td>\n",
       "      <td>0.23</td>\n",
       "    </tr>\n",
       "    <tr>\n",
       "      <td>1992</td>\n",
       "      <td>25</td>\n",
       "      <td>17.0</td>\n",
       "      <td>72600.0</td>\n",
       "      <td>Walthamcity</td>\n",
       "      <td>10</td>\n",
       "      <td>0.08</td>\n",
       "      <td>0.51</td>\n",
       "      <td>0.06</td>\n",
       "      <td>0.87</td>\n",
       "      <td>0.22</td>\n",
       "      <td>...</td>\n",
       "      <td>0.03</td>\n",
       "      <td>0.38</td>\n",
       "      <td>0.33</td>\n",
       "      <td>0.02</td>\n",
       "      <td>0.02</td>\n",
       "      <td>0.79</td>\n",
       "      <td>0.0</td>\n",
       "      <td>0.22</td>\n",
       "      <td>0.18</td>\n",
       "      <td>0.19</td>\n",
       "    </tr>\n",
       "    <tr>\n",
       "      <td>1993</td>\n",
       "      <td>6</td>\n",
       "      <td>NaN</td>\n",
       "      <td>NaN</td>\n",
       "      <td>Ontariocity</td>\n",
       "      <td>10</td>\n",
       "      <td>0.20</td>\n",
       "      <td>0.78</td>\n",
       "      <td>0.14</td>\n",
       "      <td>0.46</td>\n",
       "      <td>0.24</td>\n",
       "      <td>...</td>\n",
       "      <td>0.11</td>\n",
       "      <td>0.30</td>\n",
       "      <td>0.05</td>\n",
       "      <td>0.08</td>\n",
       "      <td>0.04</td>\n",
       "      <td>0.73</td>\n",
       "      <td>0.5</td>\n",
       "      <td>1.00</td>\n",
       "      <td>0.13</td>\n",
       "      <td>0.48</td>\n",
       "    </tr>\n",
       "  </tbody>\n",
       "</table>\n",
       "<p>1994 rows × 128 columns</p>\n",
       "</div>"
      ],
      "text/plain": [
       "      state  county  community        communityname  fold  population  \\\n",
       "0         8     NaN        NaN         Lakewoodcity     1        0.19   \n",
       "1        53     NaN        NaN          Tukwilacity     1        0.00   \n",
       "2        24     NaN        NaN         Aberdeentown     1        0.00   \n",
       "3        34     5.0    81440.0  Willingborotownship     1        0.04   \n",
       "4        42    95.0     6096.0    Bethlehemtownship     1        0.01   \n",
       "...     ...     ...        ...                  ...   ...         ...   \n",
       "1989     12     NaN        NaN    TempleTerracecity    10        0.01   \n",
       "1990      6     NaN        NaN          Seasidecity    10        0.05   \n",
       "1991      9     9.0    80070.0        Waterburytown    10        0.16   \n",
       "1992     25    17.0    72600.0          Walthamcity    10        0.08   \n",
       "1993      6     NaN        NaN          Ontariocity    10        0.20   \n",
       "\n",
       "      householdsize  racepctblack  racePctWhite  racePctAsian  ...  LandArea  \\\n",
       "0              0.33          0.02          0.90          0.12  ...      0.12   \n",
       "1              0.16          0.12          0.74          0.45  ...      0.02   \n",
       "2              0.42          0.49          0.56          0.17  ...      0.01   \n",
       "3              0.77          1.00          0.08          0.12  ...      0.02   \n",
       "4              0.55          0.02          0.95          0.09  ...      0.04   \n",
       "...             ...           ...           ...           ...  ...       ...   \n",
       "1989           0.40          0.10          0.87          0.12  ...      0.01   \n",
       "1990           0.96          0.46          0.28          0.83  ...      0.02   \n",
       "1991           0.37          0.25          0.69          0.04  ...      0.08   \n",
       "1992           0.51          0.06          0.87          0.22  ...      0.03   \n",
       "1993           0.78          0.14          0.46          0.24  ...      0.11   \n",
       "\n",
       "      PopDens  PctUsePubTrans  PolicCars  PolicOperBudg  LemasPctPolicOnPatr  \\\n",
       "0        0.26            0.20       0.06           0.04                 0.90   \n",
       "1        0.12            0.45        NaN            NaN                  NaN   \n",
       "2        0.21            0.02        NaN            NaN                  NaN   \n",
       "3        0.39            0.28        NaN            NaN                  NaN   \n",
       "4        0.09            0.02        NaN            NaN                  NaN   \n",
       "...       ...             ...        ...            ...                  ...   \n",
       "1989     0.28            0.05        NaN            NaN                  NaN   \n",
       "1990     0.37            0.20        NaN            NaN                  NaN   \n",
       "1991     0.32            0.18       0.08           0.06                 0.78   \n",
       "1992     0.38            0.33       0.02           0.02                 0.79   \n",
       "1993     0.30            0.05       0.08           0.04                 0.73   \n",
       "\n",
       "      LemasGangUnitDeploy  LemasPctOfficDrugUn  PolicBudgPerPop  \\\n",
       "0                     0.5                 0.32             0.14   \n",
       "1                     NaN                 0.00              NaN   \n",
       "2                     NaN                 0.00              NaN   \n",
       "3                     NaN                 0.00              NaN   \n",
       "4                     NaN                 0.00              NaN   \n",
       "...                   ...                  ...              ...   \n",
       "1989                  NaN                 0.00              NaN   \n",
       "1990                  NaN                 0.00              NaN   \n",
       "1991                  0.0                 0.91             0.28   \n",
       "1992                  0.0                 0.22             0.18   \n",
       "1993                  0.5                 1.00             0.13   \n",
       "\n",
       "      ViolentCrimesPerPop  \n",
       "0                    0.20  \n",
       "1                    0.67  \n",
       "2                    0.43  \n",
       "3                    0.12  \n",
       "4                    0.03  \n",
       "...                   ...  \n",
       "1989                 0.09  \n",
       "1990                 0.45  \n",
       "1991                 0.23  \n",
       "1992                 0.19  \n",
       "1993                 0.48  \n",
       "\n",
       "[1994 rows x 128 columns]"
      ]
     },
     "execution_count": 101,
     "metadata": {},
     "output_type": "execute_result"
    }
   ],
   "source": [
    "df_with_NaN"
   ]
  },
  {
   "cell_type": "code",
   "execution_count": 102,
   "metadata": {},
   "outputs": [],
   "source": [
    "def print_missing_by_col(df):\n",
    "    for col in df:\n",
    "        print(f\"{col}: {df[col].isna().sum()} missings\")"
   ]
  },
  {
   "cell_type": "code",
   "execution_count": 103,
   "metadata": {},
   "outputs": [],
   "source": [
    "# print_missing_by_col(df_with_NaN)"
   ]
  },
  {
   "cell_type": "markdown",
   "metadata": {},
   "source": [
    "\n",
    "### Q 4.1\n",
    "This is a real-life data set and as such, it would not have the nice properties that we\n",
    "expect. Your first job is to make this dataset usable by filling in all the missing values.\n",
    "\n",
    "(a) Use the sample mean of each column to fill in the missing attributes. Is this is a\n",
    "good choice? Explain why or why not."
   ]
  },
  {
   "cell_type": "code",
   "execution_count": 104,
   "metadata": {
    "scrolled": true
   },
   "outputs": [
    {
     "data": {
      "text/html": [
       "<div>\n",
       "<style scoped>\n",
       "    .dataframe tbody tr th:only-of-type {\n",
       "        vertical-align: middle;\n",
       "    }\n",
       "\n",
       "    .dataframe tbody tr th {\n",
       "        vertical-align: top;\n",
       "    }\n",
       "\n",
       "    .dataframe thead th {\n",
       "        text-align: right;\n",
       "    }\n",
       "</style>\n",
       "<table border=\"1\" class=\"dataframe\">\n",
       "  <thead>\n",
       "    <tr style=\"text-align: right;\">\n",
       "      <th></th>\n",
       "      <th>state</th>\n",
       "      <th>county</th>\n",
       "      <th>community</th>\n",
       "      <th>communityname</th>\n",
       "      <th>fold</th>\n",
       "      <th>population</th>\n",
       "      <th>householdsize</th>\n",
       "      <th>racepctblack</th>\n",
       "      <th>racePctWhite</th>\n",
       "      <th>racePctAsian</th>\n",
       "      <th>...</th>\n",
       "      <th>LandArea</th>\n",
       "      <th>PopDens</th>\n",
       "      <th>PctUsePubTrans</th>\n",
       "      <th>PolicCars</th>\n",
       "      <th>PolicOperBudg</th>\n",
       "      <th>LemasPctPolicOnPatr</th>\n",
       "      <th>LemasGangUnitDeploy</th>\n",
       "      <th>LemasPctOfficDrugUn</th>\n",
       "      <th>PolicBudgPerPop</th>\n",
       "      <th>ViolentCrimesPerPop</th>\n",
       "    </tr>\n",
       "  </thead>\n",
       "  <tbody>\n",
       "    <tr>\n",
       "      <td>0</td>\n",
       "      <td>8</td>\n",
       "      <td>58.826829</td>\n",
       "      <td>46188.336597</td>\n",
       "      <td>Lakewoodcity</td>\n",
       "      <td>1</td>\n",
       "      <td>0.19</td>\n",
       "      <td>0.33</td>\n",
       "      <td>0.02</td>\n",
       "      <td>0.90</td>\n",
       "      <td>0.12</td>\n",
       "      <td>...</td>\n",
       "      <td>0.12</td>\n",
       "      <td>0.26</td>\n",
       "      <td>0.20</td>\n",
       "      <td>0.060000</td>\n",
       "      <td>0.040000</td>\n",
       "      <td>0.900000</td>\n",
       "      <td>0.500000</td>\n",
       "      <td>0.32</td>\n",
       "      <td>0.140000</td>\n",
       "      <td>0.20</td>\n",
       "    </tr>\n",
       "    <tr>\n",
       "      <td>1</td>\n",
       "      <td>53</td>\n",
       "      <td>58.826829</td>\n",
       "      <td>46188.336597</td>\n",
       "      <td>Tukwilacity</td>\n",
       "      <td>1</td>\n",
       "      <td>0.00</td>\n",
       "      <td>0.16</td>\n",
       "      <td>0.12</td>\n",
       "      <td>0.74</td>\n",
       "      <td>0.45</td>\n",
       "      <td>...</td>\n",
       "      <td>0.02</td>\n",
       "      <td>0.12</td>\n",
       "      <td>0.45</td>\n",
       "      <td>0.163103</td>\n",
       "      <td>0.076708</td>\n",
       "      <td>0.698589</td>\n",
       "      <td>0.440439</td>\n",
       "      <td>0.00</td>\n",
       "      <td>0.195078</td>\n",
       "      <td>0.67</td>\n",
       "    </tr>\n",
       "    <tr>\n",
       "      <td>2</td>\n",
       "      <td>24</td>\n",
       "      <td>58.826829</td>\n",
       "      <td>46188.336597</td>\n",
       "      <td>Aberdeentown</td>\n",
       "      <td>1</td>\n",
       "      <td>0.00</td>\n",
       "      <td>0.42</td>\n",
       "      <td>0.49</td>\n",
       "      <td>0.56</td>\n",
       "      <td>0.17</td>\n",
       "      <td>...</td>\n",
       "      <td>0.01</td>\n",
       "      <td>0.21</td>\n",
       "      <td>0.02</td>\n",
       "      <td>0.163103</td>\n",
       "      <td>0.076708</td>\n",
       "      <td>0.698589</td>\n",
       "      <td>0.440439</td>\n",
       "      <td>0.00</td>\n",
       "      <td>0.195078</td>\n",
       "      <td>0.43</td>\n",
       "    </tr>\n",
       "    <tr>\n",
       "      <td>3</td>\n",
       "      <td>34</td>\n",
       "      <td>5.000000</td>\n",
       "      <td>81440.000000</td>\n",
       "      <td>Willingborotownship</td>\n",
       "      <td>1</td>\n",
       "      <td>0.04</td>\n",
       "      <td>0.77</td>\n",
       "      <td>1.00</td>\n",
       "      <td>0.08</td>\n",
       "      <td>0.12</td>\n",
       "      <td>...</td>\n",
       "      <td>0.02</td>\n",
       "      <td>0.39</td>\n",
       "      <td>0.28</td>\n",
       "      <td>0.163103</td>\n",
       "      <td>0.076708</td>\n",
       "      <td>0.698589</td>\n",
       "      <td>0.440439</td>\n",
       "      <td>0.00</td>\n",
       "      <td>0.195078</td>\n",
       "      <td>0.12</td>\n",
       "    </tr>\n",
       "    <tr>\n",
       "      <td>4</td>\n",
       "      <td>42</td>\n",
       "      <td>95.000000</td>\n",
       "      <td>6096.000000</td>\n",
       "      <td>Bethlehemtownship</td>\n",
       "      <td>1</td>\n",
       "      <td>0.01</td>\n",
       "      <td>0.55</td>\n",
       "      <td>0.02</td>\n",
       "      <td>0.95</td>\n",
       "      <td>0.09</td>\n",
       "      <td>...</td>\n",
       "      <td>0.04</td>\n",
       "      <td>0.09</td>\n",
       "      <td>0.02</td>\n",
       "      <td>0.163103</td>\n",
       "      <td>0.076708</td>\n",
       "      <td>0.698589</td>\n",
       "      <td>0.440439</td>\n",
       "      <td>0.00</td>\n",
       "      <td>0.195078</td>\n",
       "      <td>0.03</td>\n",
       "    </tr>\n",
       "  </tbody>\n",
       "</table>\n",
       "<p>5 rows × 128 columns</p>\n",
       "</div>"
      ],
      "text/plain": [
       "   state     county     community        communityname  fold  population  \\\n",
       "0      8  58.826829  46188.336597         Lakewoodcity     1        0.19   \n",
       "1     53  58.826829  46188.336597          Tukwilacity     1        0.00   \n",
       "2     24  58.826829  46188.336597         Aberdeentown     1        0.00   \n",
       "3     34   5.000000  81440.000000  Willingborotownship     1        0.04   \n",
       "4     42  95.000000   6096.000000    Bethlehemtownship     1        0.01   \n",
       "\n",
       "   householdsize  racepctblack  racePctWhite  racePctAsian  ...  LandArea  \\\n",
       "0           0.33          0.02          0.90          0.12  ...      0.12   \n",
       "1           0.16          0.12          0.74          0.45  ...      0.02   \n",
       "2           0.42          0.49          0.56          0.17  ...      0.01   \n",
       "3           0.77          1.00          0.08          0.12  ...      0.02   \n",
       "4           0.55          0.02          0.95          0.09  ...      0.04   \n",
       "\n",
       "   PopDens  PctUsePubTrans  PolicCars  PolicOperBudg  LemasPctPolicOnPatr  \\\n",
       "0     0.26            0.20   0.060000       0.040000             0.900000   \n",
       "1     0.12            0.45   0.163103       0.076708             0.698589   \n",
       "2     0.21            0.02   0.163103       0.076708             0.698589   \n",
       "3     0.39            0.28   0.163103       0.076708             0.698589   \n",
       "4     0.09            0.02   0.163103       0.076708             0.698589   \n",
       "\n",
       "   LemasGangUnitDeploy  LemasPctOfficDrugUn  PolicBudgPerPop  \\\n",
       "0             0.500000                 0.32         0.140000   \n",
       "1             0.440439                 0.00         0.195078   \n",
       "2             0.440439                 0.00         0.195078   \n",
       "3             0.440439                 0.00         0.195078   \n",
       "4             0.440439                 0.00         0.195078   \n",
       "\n",
       "   ViolentCrimesPerPop  \n",
       "0                 0.20  \n",
       "1                 0.67  \n",
       "2                 0.43  \n",
       "3                 0.12  \n",
       "4                 0.03  \n",
       "\n",
       "[5 rows x 128 columns]"
      ]
     },
     "execution_count": 104,
     "metadata": {},
     "output_type": "execute_result"
    }
   ],
   "source": [
    "df_mean = df_with_NaN.fillna(df_with_NaN.mean())\n",
    "df_mean.head()"
   ]
  },
  {
   "cell_type": "markdown",
   "metadata": {},
   "source": [
    "(b) What else might you use to fill in the missing attributes?\n"
   ]
  },
  {
   "cell_type": "code",
   "execution_count": 105,
   "metadata": {},
   "outputs": [],
   "source": [
    "# Pour combler les données manquantes, on pourrait utiliser la valeur la plus fréquent pour chaque colonne, \n",
    "# ou simplement mettre ces données à 0. Cependant, ces façons de faire ne tienne toujours pas compte de la\n",
    "# corrélation entre les colonnes. Pour tenir compte de la corrélation entre les colonnes, une technique \n",
    "# intéressante est de prédire les valeurs des données manquant en utilisant k nearest neighbours se basant \n",
    "# sur les features similaires des différents points. "
   ]
  },
  {
   "cell_type": "markdown",
   "metadata": {},
   "source": [
    "(c) If you have a better method, describe it, and use it for filling in the missing data.\n",
    "Explain why your method is better."
   ]
  },
  {
   "cell_type": "code",
   "execution_count": 106,
   "metadata": {
    "scrolled": true
   },
   "outputs": [
    {
     "data": {
      "text/html": [
       "<div>\n",
       "<style scoped>\n",
       "    .dataframe tbody tr th:only-of-type {\n",
       "        vertical-align: middle;\n",
       "    }\n",
       "\n",
       "    .dataframe tbody tr th {\n",
       "        vertical-align: top;\n",
       "    }\n",
       "\n",
       "    .dataframe thead th {\n",
       "        text-align: right;\n",
       "    }\n",
       "</style>\n",
       "<table border=\"1\" class=\"dataframe\">\n",
       "  <thead>\n",
       "    <tr style=\"text-align: right;\">\n",
       "      <th></th>\n",
       "      <th>state</th>\n",
       "      <th>county</th>\n",
       "      <th>community</th>\n",
       "      <th>communityname</th>\n",
       "      <th>fold</th>\n",
       "      <th>population</th>\n",
       "      <th>householdsize</th>\n",
       "      <th>racepctblack</th>\n",
       "      <th>racePctWhite</th>\n",
       "      <th>racePctAsian</th>\n",
       "      <th>...</th>\n",
       "      <th>LandArea</th>\n",
       "      <th>PopDens</th>\n",
       "      <th>PctUsePubTrans</th>\n",
       "      <th>PolicCars</th>\n",
       "      <th>PolicOperBudg</th>\n",
       "      <th>LemasPctPolicOnPatr</th>\n",
       "      <th>LemasGangUnitDeploy</th>\n",
       "      <th>LemasPctOfficDrugUn</th>\n",
       "      <th>PolicBudgPerPop</th>\n",
       "      <th>ViolentCrimesPerPop</th>\n",
       "    </tr>\n",
       "  </thead>\n",
       "  <tbody>\n",
       "    <tr>\n",
       "      <td>0</td>\n",
       "      <td>8</td>\n",
       "      <td>3.0</td>\n",
       "      <td>30210.0</td>\n",
       "      <td>Lakewoodcity</td>\n",
       "      <td>1</td>\n",
       "      <td>0.19</td>\n",
       "      <td>0.33</td>\n",
       "      <td>0.02</td>\n",
       "      <td>0.90</td>\n",
       "      <td>0.12</td>\n",
       "      <td>...</td>\n",
       "      <td>0.12</td>\n",
       "      <td>0.26</td>\n",
       "      <td>0.20</td>\n",
       "      <td>0.06</td>\n",
       "      <td>0.04</td>\n",
       "      <td>0.90</td>\n",
       "      <td>0.5</td>\n",
       "      <td>0.32</td>\n",
       "      <td>0.14</td>\n",
       "      <td>0.20</td>\n",
       "    </tr>\n",
       "    <tr>\n",
       "      <td>1</td>\n",
       "      <td>53</td>\n",
       "      <td>3.0</td>\n",
       "      <td>30210.0</td>\n",
       "      <td>Tukwilacity</td>\n",
       "      <td>1</td>\n",
       "      <td>0.00</td>\n",
       "      <td>0.16</td>\n",
       "      <td>0.12</td>\n",
       "      <td>0.74</td>\n",
       "      <td>0.45</td>\n",
       "      <td>...</td>\n",
       "      <td>0.02</td>\n",
       "      <td>0.12</td>\n",
       "      <td>0.45</td>\n",
       "      <td>0.02</td>\n",
       "      <td>0.02</td>\n",
       "      <td>0.74</td>\n",
       "      <td>0.0</td>\n",
       "      <td>0.00</td>\n",
       "      <td>0.12</td>\n",
       "      <td>0.67</td>\n",
       "    </tr>\n",
       "    <tr>\n",
       "      <td>2</td>\n",
       "      <td>24</td>\n",
       "      <td>3.0</td>\n",
       "      <td>30210.0</td>\n",
       "      <td>Aberdeentown</td>\n",
       "      <td>1</td>\n",
       "      <td>0.00</td>\n",
       "      <td>0.42</td>\n",
       "      <td>0.49</td>\n",
       "      <td>0.56</td>\n",
       "      <td>0.17</td>\n",
       "      <td>...</td>\n",
       "      <td>0.01</td>\n",
       "      <td>0.21</td>\n",
       "      <td>0.02</td>\n",
       "      <td>0.02</td>\n",
       "      <td>0.02</td>\n",
       "      <td>0.74</td>\n",
       "      <td>0.0</td>\n",
       "      <td>0.00</td>\n",
       "      <td>0.12</td>\n",
       "      <td>0.43</td>\n",
       "    </tr>\n",
       "    <tr>\n",
       "      <td>3</td>\n",
       "      <td>34</td>\n",
       "      <td>5.0</td>\n",
       "      <td>81440.0</td>\n",
       "      <td>Willingborotownship</td>\n",
       "      <td>1</td>\n",
       "      <td>0.04</td>\n",
       "      <td>0.77</td>\n",
       "      <td>1.00</td>\n",
       "      <td>0.08</td>\n",
       "      <td>0.12</td>\n",
       "      <td>...</td>\n",
       "      <td>0.02</td>\n",
       "      <td>0.39</td>\n",
       "      <td>0.28</td>\n",
       "      <td>0.02</td>\n",
       "      <td>0.02</td>\n",
       "      <td>0.74</td>\n",
       "      <td>0.0</td>\n",
       "      <td>0.00</td>\n",
       "      <td>0.12</td>\n",
       "      <td>0.12</td>\n",
       "    </tr>\n",
       "    <tr>\n",
       "      <td>4</td>\n",
       "      <td>42</td>\n",
       "      <td>95.0</td>\n",
       "      <td>6096.0</td>\n",
       "      <td>Bethlehemtownship</td>\n",
       "      <td>1</td>\n",
       "      <td>0.01</td>\n",
       "      <td>0.55</td>\n",
       "      <td>0.02</td>\n",
       "      <td>0.95</td>\n",
       "      <td>0.09</td>\n",
       "      <td>...</td>\n",
       "      <td>0.04</td>\n",
       "      <td>0.09</td>\n",
       "      <td>0.02</td>\n",
       "      <td>0.02</td>\n",
       "      <td>0.02</td>\n",
       "      <td>0.74</td>\n",
       "      <td>0.0</td>\n",
       "      <td>0.00</td>\n",
       "      <td>0.12</td>\n",
       "      <td>0.03</td>\n",
       "    </tr>\n",
       "  </tbody>\n",
       "</table>\n",
       "<p>5 rows × 128 columns</p>\n",
       "</div>"
      ],
      "text/plain": [
       "   state  county  community        communityname  fold  population  \\\n",
       "0      8     3.0    30210.0         Lakewoodcity     1        0.19   \n",
       "1     53     3.0    30210.0          Tukwilacity     1        0.00   \n",
       "2     24     3.0    30210.0         Aberdeentown     1        0.00   \n",
       "3     34     5.0    81440.0  Willingborotownship     1        0.04   \n",
       "4     42    95.0     6096.0    Bethlehemtownship     1        0.01   \n",
       "\n",
       "   householdsize  racepctblack  racePctWhite  racePctAsian  ...  LandArea  \\\n",
       "0           0.33          0.02          0.90          0.12  ...      0.12   \n",
       "1           0.16          0.12          0.74          0.45  ...      0.02   \n",
       "2           0.42          0.49          0.56          0.17  ...      0.01   \n",
       "3           0.77          1.00          0.08          0.12  ...      0.02   \n",
       "4           0.55          0.02          0.95          0.09  ...      0.04   \n",
       "\n",
       "   PopDens  PctUsePubTrans  PolicCars  PolicOperBudg  LemasPctPolicOnPatr  \\\n",
       "0     0.26            0.20       0.06           0.04                 0.90   \n",
       "1     0.12            0.45       0.02           0.02                 0.74   \n",
       "2     0.21            0.02       0.02           0.02                 0.74   \n",
       "3     0.39            0.28       0.02           0.02                 0.74   \n",
       "4     0.09            0.02       0.02           0.02                 0.74   \n",
       "\n",
       "   LemasGangUnitDeploy  LemasPctOfficDrugUn  PolicBudgPerPop  \\\n",
       "0                  0.5                 0.32             0.14   \n",
       "1                  0.0                 0.00             0.12   \n",
       "2                  0.0                 0.00             0.12   \n",
       "3                  0.0                 0.00             0.12   \n",
       "4                  0.0                 0.00             0.12   \n",
       "\n",
       "   ViolentCrimesPerPop  \n",
       "0                 0.20  \n",
       "1                 0.67  \n",
       "2                 0.43  \n",
       "3                 0.12  \n",
       "4                 0.03  \n",
       "\n",
       "[5 rows x 128 columns]"
      ]
     },
     "execution_count": 106,
     "metadata": {},
     "output_type": "execute_result"
    }
   ],
   "source": [
    "df_most_freq_value = df_with_NaN.apply(lambda x:x.fillna(x.value_counts().index[0]))\n",
    "df_most_freq_value.head()"
   ]
  },
  {
   "cell_type": "markdown",
   "metadata": {},
   "source": [
    "(d) Turn in the completed data set."
   ]
  },
  {
   "cell_type": "code",
   "execution_count": 107,
   "metadata": {},
   "outputs": [
    {
     "data": {
      "text/html": [
       "<div>\n",
       "<style scoped>\n",
       "    .dataframe tbody tr th:only-of-type {\n",
       "        vertical-align: middle;\n",
       "    }\n",
       "\n",
       "    .dataframe tbody tr th {\n",
       "        vertical-align: top;\n",
       "    }\n",
       "\n",
       "    .dataframe thead th {\n",
       "        text-align: right;\n",
       "    }\n",
       "</style>\n",
       "<table border=\"1\" class=\"dataframe\">\n",
       "  <thead>\n",
       "    <tr style=\"text-align: right;\">\n",
       "      <th></th>\n",
       "      <th>state</th>\n",
       "      <th>county</th>\n",
       "      <th>community</th>\n",
       "      <th>communityname</th>\n",
       "      <th>fold</th>\n",
       "      <th>population</th>\n",
       "      <th>householdsize</th>\n",
       "      <th>racepctblack</th>\n",
       "      <th>racePctWhite</th>\n",
       "      <th>racePctAsian</th>\n",
       "      <th>...</th>\n",
       "      <th>LandArea</th>\n",
       "      <th>PopDens</th>\n",
       "      <th>PctUsePubTrans</th>\n",
       "      <th>PolicCars</th>\n",
       "      <th>PolicOperBudg</th>\n",
       "      <th>LemasPctPolicOnPatr</th>\n",
       "      <th>LemasGangUnitDeploy</th>\n",
       "      <th>LemasPctOfficDrugUn</th>\n",
       "      <th>PolicBudgPerPop</th>\n",
       "      <th>ViolentCrimesPerPop</th>\n",
       "    </tr>\n",
       "  </thead>\n",
       "  <tbody>\n",
       "    <tr>\n",
       "      <td>0</td>\n",
       "      <td>8</td>\n",
       "      <td>3.0</td>\n",
       "      <td>30210.0</td>\n",
       "      <td>0</td>\n",
       "      <td>1</td>\n",
       "      <td>0.19</td>\n",
       "      <td>0.33</td>\n",
       "      <td>0.02</td>\n",
       "      <td>0.90</td>\n",
       "      <td>0.12</td>\n",
       "      <td>...</td>\n",
       "      <td>0.12</td>\n",
       "      <td>0.26</td>\n",
       "      <td>0.20</td>\n",
       "      <td>0.06</td>\n",
       "      <td>0.04</td>\n",
       "      <td>0.90</td>\n",
       "      <td>0.5</td>\n",
       "      <td>0.32</td>\n",
       "      <td>0.14</td>\n",
       "      <td>0.20</td>\n",
       "    </tr>\n",
       "    <tr>\n",
       "      <td>1</td>\n",
       "      <td>53</td>\n",
       "      <td>3.0</td>\n",
       "      <td>30210.0</td>\n",
       "      <td>1</td>\n",
       "      <td>1</td>\n",
       "      <td>0.00</td>\n",
       "      <td>0.16</td>\n",
       "      <td>0.12</td>\n",
       "      <td>0.74</td>\n",
       "      <td>0.45</td>\n",
       "      <td>...</td>\n",
       "      <td>0.02</td>\n",
       "      <td>0.12</td>\n",
       "      <td>0.45</td>\n",
       "      <td>0.02</td>\n",
       "      <td>0.02</td>\n",
       "      <td>0.74</td>\n",
       "      <td>0.0</td>\n",
       "      <td>0.00</td>\n",
       "      <td>0.12</td>\n",
       "      <td>0.67</td>\n",
       "    </tr>\n",
       "    <tr>\n",
       "      <td>2</td>\n",
       "      <td>24</td>\n",
       "      <td>3.0</td>\n",
       "      <td>30210.0</td>\n",
       "      <td>2</td>\n",
       "      <td>1</td>\n",
       "      <td>0.00</td>\n",
       "      <td>0.42</td>\n",
       "      <td>0.49</td>\n",
       "      <td>0.56</td>\n",
       "      <td>0.17</td>\n",
       "      <td>...</td>\n",
       "      <td>0.01</td>\n",
       "      <td>0.21</td>\n",
       "      <td>0.02</td>\n",
       "      <td>0.02</td>\n",
       "      <td>0.02</td>\n",
       "      <td>0.74</td>\n",
       "      <td>0.0</td>\n",
       "      <td>0.00</td>\n",
       "      <td>0.12</td>\n",
       "      <td>0.43</td>\n",
       "    </tr>\n",
       "    <tr>\n",
       "      <td>3</td>\n",
       "      <td>34</td>\n",
       "      <td>5.0</td>\n",
       "      <td>81440.0</td>\n",
       "      <td>3</td>\n",
       "      <td>1</td>\n",
       "      <td>0.04</td>\n",
       "      <td>0.77</td>\n",
       "      <td>1.00</td>\n",
       "      <td>0.08</td>\n",
       "      <td>0.12</td>\n",
       "      <td>...</td>\n",
       "      <td>0.02</td>\n",
       "      <td>0.39</td>\n",
       "      <td>0.28</td>\n",
       "      <td>0.02</td>\n",
       "      <td>0.02</td>\n",
       "      <td>0.74</td>\n",
       "      <td>0.0</td>\n",
       "      <td>0.00</td>\n",
       "      <td>0.12</td>\n",
       "      <td>0.12</td>\n",
       "    </tr>\n",
       "    <tr>\n",
       "      <td>4</td>\n",
       "      <td>42</td>\n",
       "      <td>95.0</td>\n",
       "      <td>6096.0</td>\n",
       "      <td>4</td>\n",
       "      <td>1</td>\n",
       "      <td>0.01</td>\n",
       "      <td>0.55</td>\n",
       "      <td>0.02</td>\n",
       "      <td>0.95</td>\n",
       "      <td>0.09</td>\n",
       "      <td>...</td>\n",
       "      <td>0.04</td>\n",
       "      <td>0.09</td>\n",
       "      <td>0.02</td>\n",
       "      <td>0.02</td>\n",
       "      <td>0.02</td>\n",
       "      <td>0.74</td>\n",
       "      <td>0.0</td>\n",
       "      <td>0.00</td>\n",
       "      <td>0.12</td>\n",
       "      <td>0.03</td>\n",
       "    </tr>\n",
       "  </tbody>\n",
       "</table>\n",
       "<p>5 rows × 128 columns</p>\n",
       "</div>"
      ],
      "text/plain": [
       "   state  county  community  communityname  fold  population  householdsize  \\\n",
       "0      8     3.0    30210.0              0     1        0.19           0.33   \n",
       "1     53     3.0    30210.0              1     1        0.00           0.16   \n",
       "2     24     3.0    30210.0              2     1        0.00           0.42   \n",
       "3     34     5.0    81440.0              3     1        0.04           0.77   \n",
       "4     42    95.0     6096.0              4     1        0.01           0.55   \n",
       "\n",
       "   racepctblack  racePctWhite  racePctAsian  ...  LandArea  PopDens  \\\n",
       "0          0.02          0.90          0.12  ...      0.12     0.26   \n",
       "1          0.12          0.74          0.45  ...      0.02     0.12   \n",
       "2          0.49          0.56          0.17  ...      0.01     0.21   \n",
       "3          1.00          0.08          0.12  ...      0.02     0.39   \n",
       "4          0.02          0.95          0.09  ...      0.04     0.09   \n",
       "\n",
       "   PctUsePubTrans  PolicCars  PolicOperBudg  LemasPctPolicOnPatr  \\\n",
       "0            0.20       0.06           0.04                 0.90   \n",
       "1            0.45       0.02           0.02                 0.74   \n",
       "2            0.02       0.02           0.02                 0.74   \n",
       "3            0.28       0.02           0.02                 0.74   \n",
       "4            0.02       0.02           0.02                 0.74   \n",
       "\n",
       "   LemasGangUnitDeploy  LemasPctOfficDrugUn  PolicBudgPerPop  \\\n",
       "0                  0.5                 0.32             0.14   \n",
       "1                  0.0                 0.00             0.12   \n",
       "2                  0.0                 0.00             0.12   \n",
       "3                  0.0                 0.00             0.12   \n",
       "4                  0.0                 0.00             0.12   \n",
       "\n",
       "   ViolentCrimesPerPop  \n",
       "0                 0.20  \n",
       "1                 0.67  \n",
       "2                 0.43  \n",
       "3                 0.12  \n",
       "4                 0.03  \n",
       "\n",
       "[5 rows x 128 columns]"
      ]
     },
     "execution_count": 107,
     "metadata": {},
     "output_type": "execute_result"
    }
   ],
   "source": [
    "# ?????? WAHT DOES IT MEAN ??????\n",
    "\n",
    "df = df_most_freq_value\n",
    "# Change community name for a class \n",
    "# Imply a distance between community name -> Not a good thing. Better use classification\n",
    "com_name_dict = {}\n",
    "id = 0\n",
    "for index, row in df.iterrows():\n",
    "    com_name = row['communityname']\n",
    "    if com_name in com_name_dict:\n",
    "        df.loc[index, 'communityname'] = com_name_dict[com_name]\n",
    "    else:\n",
    "        com_name_dict[com_name] = id\n",
    "        df.loc[index, 'communityname'] = com_name_dict[com_name]\n",
    "        id += 1\n",
    "        \n",
    "df.head()"
   ]
  },
  {
   "cell_type": "markdown",
   "metadata": {},
   "source": [
    "### Q 4.2 \n",
    "Use the first 20% of the dataset for testing and use the remaining 80% for training in\n",
    "the order given in the dataset file."
   ]
  },
  {
   "cell_type": "code",
   "execution_count": 109,
   "metadata": {},
   "outputs": [],
   "source": [
    "# Split 80% training - 20% validation\n",
    "def split_80_20(df: pd.DataFrame) -> pd.DataFrame:\n",
    "    row_count = df.shape[0]\n",
    "    row_cut = int(row_count * 0.8)\n",
    "    df_80 = df[0:row_cut]\n",
    "    df_20 = df[row_cut:]\n",
    "    return df_80, df_20\n",
    "\n",
    "dt_t, df_v = split_80_20(df)"
   ]
  },
  {
   "cell_type": "markdown",
   "metadata": {},
   "source": [
    "(a) Report the 5-fold cross-validation average RMSE."
   ]
  },
  {
   "cell_type": "code",
   "execution_count": 114,
   "metadata": {},
   "outputs": [],
   "source": [
    "# Usefull function\n",
    "def estimate_multi_vars(coefs, var):\n",
    "    \"\"\" x: int and np.array \"\"\"\n",
    "    raise NotImplementedError\n",
    "\n",
    "def rmse(coefs, x, y, estime_func=estimate):\n",
    "    prediction = estime_func(coefs, x)\n",
    "    mean_sum_error = sum(np.power(prediction - y, 2)) / len(x)\n",
    "    return sqrt(mean_sum_error)\n",
    "\n",
    "def find_coefs(X: np.matrix, Y: np.matrix, lambda_regularization: int = 0):\n",
    "    \"\"\" return (X.T * X + lambda * I)^(-1) * X.T * Y \"\"\"\n",
    "    Xt = X.T\n",
    "    Xt_X = np.matmul(Xt, X)\n",
    "    # L2 regularization\n",
    "    Xt_X_L2 = Xt_X + lambda_regularization * np.identity(Xt_X.shape[0])         \n",
    "    Xt_X_L2_inv = np.linalg.inv(Xt_X_L2)\n",
    "    coefs = np.matmul(np.matmul(Xt_X_L2_inv, Xt), Y)\n",
    "    return np.squeeze(np.asarray(coefs))\n",
    "\n",
    "def find_rmse_5_cross_validation(df, lambda_regularization=0):\n",
    "    row_count = df.shape[0]\n",
    "    row_cut = [0, int((row_count/5)), int((row_count/5) * 2), int((row_count/5) * 3), int((row_count/5) * 4), int((row_count/5) * 5)]\n",
    "    x = df.loc[:, df.columns != 'ViolentCrimesPerPop']\n",
    "    y = df['ViolentCrimesPerPop']\n",
    "    \n",
    "    # Using 5-fold cross validation\n",
    "    for i in range(5):\n",
    "        x_t = x\n",
    "        y_t = x\n",
    "        # Separated the data 80%/20% by moving the the cut at each iteration\n",
    "        x_v = x_t.iloc[row_cut[i] : row_cut[i + 1]]\n",
    "        y_v = y_t.iloc[row_cut[i] : row_cut[i + 1]]\n",
    "        \n",
    "        x_t.drop(x_t.index[row_cut[i] : row_cut[i + 1]])\n",
    "        y_t.drop(y_t.index[row_cut[i] : row_cut[i + 1]])\n",
    "        \n",
    "        # Find the coef of the regression\n",
    "        coefs = find_coefs(np.asmatrix(x_t), np.asmatrix(y_t), lambda_regularization)\n",
    "        # Test the RMSE on the validation set (20% of the data)\n",
    "        rmse_score.append(rmse(coefs, x_v, y_v))\n",
    "    # Average the rmse of the 5 fold cross validation\n",
    "    return rmse_scores"
   ]
  },
  {
   "cell_type": "code",
   "execution_count": null,
   "metadata": {},
   "outputs": [],
   "source": [
    "# Find rmse_score for 5 fold validation\n",
    "rmse_scores = find_rmse_5_cross_validation(df)\n",
    "\n",
    "print(np.mean(np.array(rmse_scores)))"
   ]
  },
  {
   "cell_type": "markdown",
   "metadata": {},
   "source": [
    "(b) Report the test RMSE."
   ]
  },
  {
   "cell_type": "code",
   "execution_count": null,
   "metadata": {},
   "outputs": [],
   "source": [
    "rmse_table = pd.DataFrame(data={'rmse_score': rmse_scores})"
   ]
  },
  {
   "cell_type": "markdown",
   "metadata": {},
   "source": [
    "### Q 4.3 \n",
    "We now use Ridge-regression on the above data.\n",
    "\n",
    "(a) In order to choose the best λ, plot the average RMSE using 5-fold cross validation,\n",
    "for various values of λ [x-axis: λ, y-axis: Average RMSE]. Explain how you chose\n",
    "the range of λ to explore."
   ]
  },
  {
   "cell_type": "code",
   "execution_count": null,
   "metadata": {},
   "outputs": [],
   "source": [
    "lambda_to_test = [1, 0.1, 0.001, 0.0001]\n",
    "rmse_lambda = []\n",
    "k = 5\n",
    "for l in lambda_to_test:\n",
    "    rmse_lambda.append(np.mean(find_rmse_5_cross_validation(df, l)))\n",
    "\n",
    "plt.plot(np.array(lambda_to_test), np.array(rmse_lambda), 'ro', color=\"blue\")\n",
    "plt.show()"
   ]
  },
  {
   "cell_type": "markdown",
   "metadata": {},
   "source": [
    "(b) Which value of λ gives the best fit?\n"
   ]
  },
  {
   "cell_type": "code",
   "execution_count": null,
   "metadata": {},
   "outputs": [],
   "source": [
    "best_lambda = lambda_to_test[rmse_lambda.index(max(rmse_lambda))]\n",
    "print(f\"Best fit with λ = {best_lambda}\")"
   ]
  },
  {
   "cell_type": "markdown",
   "metadata": {},
   "source": [
    "(c) Report the test RMSE using the value of λ you chose.\n"
   ]
  },
  {
   "cell_type": "code",
   "execution_count": null,
   "metadata": {},
   "outputs": [],
   "source": [
    "print(f\"RMSE obtain: {max(rmse_lambda)}\")"
   ]
  },
  {
   "cell_type": "markdown",
   "metadata": {},
   "source": [
    "(d) Is it possible to use the information obtained during this experiment for feature\n",
    "selection? If so, explain how?\n"
   ]
  },
  {
   "cell_type": "code",
   "execution_count": null,
   "metadata": {},
   "outputs": [],
   "source": []
  },
  {
   "cell_type": "markdown",
   "metadata": {},
   "source": [
    "(e) Report the test RMSE of the best fit you achieve with a reduced set of features?\n"
   ]
  },
  {
   "cell_type": "code",
   "execution_count": null,
   "metadata": {},
   "outputs": [],
   "source": [
    "# Remove redundant\n",
    "\n",
    "# Find coefs\n",
    "\n",
    "# Calcul RMSE"
   ]
  },
  {
   "cell_type": "markdown",
   "metadata": {},
   "source": [
    "(f) How different is the performance of the model with reduced features compared to\n",
    "the model using all the features? Comment about the difference."
   ]
  },
  {
   "cell_type": "code",
   "execution_count": null,
   "metadata": {},
   "outputs": [],
   "source": [
    "# Compare performance"
   ]
  }
 ],
 "metadata": {
  "kernelspec": {
   "display_name": "Python 3",
   "language": "python",
   "name": "python3"
  }
 },
 "nbformat": 4,
 "nbformat_minor": 2
}
